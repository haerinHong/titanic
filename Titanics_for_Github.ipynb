{
 "cells": [
  {
   "cell_type": "code",
   "execution_count": 2,
   "metadata": {},
   "outputs": [],
   "source": [
    "import numpy as np \n",
    "import pandas as pd \n",
    "import matplotlib.pyplot as plt\n",
    "import seaborn as sns\n",
    "from sklearn.tree import DecisionTreeRegressor\n",
    "from sklearn.preprocessing import LabelEncoder\n",
    "from scipy import stats\n",
    "from sklearn.preprocessing import StandardScaler\n",
    "import sklearn as sk\n",
    "from sklearn.metrics import mean_squared_error\n",
    "from sklearn.metrics import make_scorer, r2_score\n",
    "from sklearn.model_selection import KFold, cross_val_score\n",
    "from sklearn.tree import DecisionTreeClassifier\n",
    "from sklearn.model_selection import GridSearchCV\n",
    "from sklearn.metrics import confusion_matrix\n",
    "from sklearn.metrics import precision_score, recall_score\n",
    "from sklearn.metrics import f1_score\n",
    "from sklearn.metrics import roc_auc_score\n",
    "from sklearn.metrics import accuracy_score# Importing libraries\n",
    "\n",
    "import numpy as np \n",
    "import pandas as pd \n",
    "import matplotlib.pyplot as plt\n",
    "import seaborn as sns\n",
    "from sklearn.linear_model import LinearRegression\n",
    "from sklearn.ensemble import RandomForestClassifier #Random Forest\n",
    "from sklearn.tree import DecisionTreeRegressor\n",
    "import sklearn.linear_model as linear_model\n",
    "from sklearn.linear_model import Lasso\n",
    "from sklearn.metrics import mean_squared_error\n",
    "from sklearn.metrics import make_scorer, r2_score\n",
    "from sklearn.model_selection import KFold, cross_val_score\n",
    "from sklearn.svm import SVR\n",
    "from sklearn.ensemble import RandomForestRegressor\n",
    "from sklearn.tree import DecisionTreeRegressor\n",
    "from sklearn.ensemble import BaggingRegressor, GradientBoostingRegressor\n",
    "#import xgboost as xgb\n",
    "from sklearn.model_selection import GridSearchCV"
   ]
  },
  {
   "cell_type": "markdown",
   "metadata": {},
   "source": [
    "# 1.EDA"
   ]
  },
  {
   "cell_type": "code",
   "execution_count": 3,
   "metadata": {},
   "outputs": [
    {
     "data": {
      "text/html": [
       "<div>\n",
       "<style scoped>\n",
       "    .dataframe tbody tr th:only-of-type {\n",
       "        vertical-align: middle;\n",
       "    }\n",
       "\n",
       "    .dataframe tbody tr th {\n",
       "        vertical-align: top;\n",
       "    }\n",
       "\n",
       "    .dataframe thead th {\n",
       "        text-align: right;\n",
       "    }\n",
       "</style>\n",
       "<table border=\"1\" class=\"dataframe\">\n",
       "  <thead>\n",
       "    <tr style=\"text-align: right;\">\n",
       "      <th></th>\n",
       "      <th>PassengerId</th>\n",
       "      <th>Survived</th>\n",
       "      <th>Pclass</th>\n",
       "      <th>Name</th>\n",
       "      <th>Sex</th>\n",
       "      <th>Age</th>\n",
       "      <th>SibSp</th>\n",
       "      <th>Parch</th>\n",
       "      <th>Ticket</th>\n",
       "      <th>Fare</th>\n",
       "      <th>Cabin</th>\n",
       "      <th>Embarked</th>\n",
       "    </tr>\n",
       "  </thead>\n",
       "  <tbody>\n",
       "    <tr>\n",
       "      <th>0</th>\n",
       "      <td>1</td>\n",
       "      <td>0</td>\n",
       "      <td>3</td>\n",
       "      <td>Braund, Mr. Owen Harris</td>\n",
       "      <td>male</td>\n",
       "      <td>22.0</td>\n",
       "      <td>1</td>\n",
       "      <td>0</td>\n",
       "      <td>A/5 21171</td>\n",
       "      <td>7.2500</td>\n",
       "      <td>NaN</td>\n",
       "      <td>S</td>\n",
       "    </tr>\n",
       "    <tr>\n",
       "      <th>1</th>\n",
       "      <td>2</td>\n",
       "      <td>1</td>\n",
       "      <td>1</td>\n",
       "      <td>Cumings, Mrs. John Bradley (Florence Briggs Th...</td>\n",
       "      <td>female</td>\n",
       "      <td>38.0</td>\n",
       "      <td>1</td>\n",
       "      <td>0</td>\n",
       "      <td>PC 17599</td>\n",
       "      <td>71.2833</td>\n",
       "      <td>C85</td>\n",
       "      <td>C</td>\n",
       "    </tr>\n",
       "    <tr>\n",
       "      <th>2</th>\n",
       "      <td>3</td>\n",
       "      <td>1</td>\n",
       "      <td>3</td>\n",
       "      <td>Heikkinen, Miss. Laina</td>\n",
       "      <td>female</td>\n",
       "      <td>26.0</td>\n",
       "      <td>0</td>\n",
       "      <td>0</td>\n",
       "      <td>STON/O2. 3101282</td>\n",
       "      <td>7.9250</td>\n",
       "      <td>NaN</td>\n",
       "      <td>S</td>\n",
       "    </tr>\n",
       "    <tr>\n",
       "      <th>3</th>\n",
       "      <td>4</td>\n",
       "      <td>1</td>\n",
       "      <td>1</td>\n",
       "      <td>Futrelle, Mrs. Jacques Heath (Lily May Peel)</td>\n",
       "      <td>female</td>\n",
       "      <td>35.0</td>\n",
       "      <td>1</td>\n",
       "      <td>0</td>\n",
       "      <td>113803</td>\n",
       "      <td>53.1000</td>\n",
       "      <td>C123</td>\n",
       "      <td>S</td>\n",
       "    </tr>\n",
       "    <tr>\n",
       "      <th>4</th>\n",
       "      <td>5</td>\n",
       "      <td>0</td>\n",
       "      <td>3</td>\n",
       "      <td>Allen, Mr. William Henry</td>\n",
       "      <td>male</td>\n",
       "      <td>35.0</td>\n",
       "      <td>0</td>\n",
       "      <td>0</td>\n",
       "      <td>373450</td>\n",
       "      <td>8.0500</td>\n",
       "      <td>NaN</td>\n",
       "      <td>S</td>\n",
       "    </tr>\n",
       "  </tbody>\n",
       "</table>\n",
       "</div>"
      ],
      "text/plain": [
       "   PassengerId  Survived  Pclass  \\\n",
       "0            1         0       3   \n",
       "1            2         1       1   \n",
       "2            3         1       3   \n",
       "3            4         1       1   \n",
       "4            5         0       3   \n",
       "\n",
       "                                                Name     Sex   Age  SibSp  \\\n",
       "0                            Braund, Mr. Owen Harris    male  22.0      1   \n",
       "1  Cumings, Mrs. John Bradley (Florence Briggs Th...  female  38.0      1   \n",
       "2                             Heikkinen, Miss. Laina  female  26.0      0   \n",
       "3       Futrelle, Mrs. Jacques Heath (Lily May Peel)  female  35.0      1   \n",
       "4                           Allen, Mr. William Henry    male  35.0      0   \n",
       "\n",
       "   Parch            Ticket     Fare Cabin Embarked  \n",
       "0      0         A/5 21171   7.2500   NaN        S  \n",
       "1      0          PC 17599  71.2833   C85        C  \n",
       "2      0  STON/O2. 3101282   7.9250   NaN        S  \n",
       "3      0            113803  53.1000  C123        S  \n",
       "4      0            373450   8.0500   NaN        S  "
      ]
     },
     "execution_count": 3,
     "metadata": {},
     "output_type": "execute_result"
    }
   ],
   "source": [
    "train = pd.read_csv('./titanic/train.csv')\n",
    "train.head()"
   ]
  },
  {
   "cell_type": "code",
   "execution_count": 4,
   "metadata": {},
   "outputs": [
    {
     "data": {
      "text/html": [
       "<div>\n",
       "<style scoped>\n",
       "    .dataframe tbody tr th:only-of-type {\n",
       "        vertical-align: middle;\n",
       "    }\n",
       "\n",
       "    .dataframe tbody tr th {\n",
       "        vertical-align: top;\n",
       "    }\n",
       "\n",
       "    .dataframe thead th {\n",
       "        text-align: right;\n",
       "    }\n",
       "</style>\n",
       "<table border=\"1\" class=\"dataframe\">\n",
       "  <thead>\n",
       "    <tr style=\"text-align: right;\">\n",
       "      <th></th>\n",
       "      <th>PassengerId</th>\n",
       "      <th>Pclass</th>\n",
       "      <th>Name</th>\n",
       "      <th>Sex</th>\n",
       "      <th>Age</th>\n",
       "      <th>SibSp</th>\n",
       "      <th>Parch</th>\n",
       "      <th>Ticket</th>\n",
       "      <th>Fare</th>\n",
       "      <th>Cabin</th>\n",
       "      <th>Embarked</th>\n",
       "    </tr>\n",
       "  </thead>\n",
       "  <tbody>\n",
       "    <tr>\n",
       "      <th>0</th>\n",
       "      <td>892</td>\n",
       "      <td>3</td>\n",
       "      <td>Kelly, Mr. James</td>\n",
       "      <td>male</td>\n",
       "      <td>34.5</td>\n",
       "      <td>0</td>\n",
       "      <td>0</td>\n",
       "      <td>330911</td>\n",
       "      <td>7.8292</td>\n",
       "      <td>NaN</td>\n",
       "      <td>Q</td>\n",
       "    </tr>\n",
       "    <tr>\n",
       "      <th>1</th>\n",
       "      <td>893</td>\n",
       "      <td>3</td>\n",
       "      <td>Wilkes, Mrs. James (Ellen Needs)</td>\n",
       "      <td>female</td>\n",
       "      <td>47.0</td>\n",
       "      <td>1</td>\n",
       "      <td>0</td>\n",
       "      <td>363272</td>\n",
       "      <td>7.0000</td>\n",
       "      <td>NaN</td>\n",
       "      <td>S</td>\n",
       "    </tr>\n",
       "    <tr>\n",
       "      <th>2</th>\n",
       "      <td>894</td>\n",
       "      <td>2</td>\n",
       "      <td>Myles, Mr. Thomas Francis</td>\n",
       "      <td>male</td>\n",
       "      <td>62.0</td>\n",
       "      <td>0</td>\n",
       "      <td>0</td>\n",
       "      <td>240276</td>\n",
       "      <td>9.6875</td>\n",
       "      <td>NaN</td>\n",
       "      <td>Q</td>\n",
       "    </tr>\n",
       "    <tr>\n",
       "      <th>3</th>\n",
       "      <td>895</td>\n",
       "      <td>3</td>\n",
       "      <td>Wirz, Mr. Albert</td>\n",
       "      <td>male</td>\n",
       "      <td>27.0</td>\n",
       "      <td>0</td>\n",
       "      <td>0</td>\n",
       "      <td>315154</td>\n",
       "      <td>8.6625</td>\n",
       "      <td>NaN</td>\n",
       "      <td>S</td>\n",
       "    </tr>\n",
       "    <tr>\n",
       "      <th>4</th>\n",
       "      <td>896</td>\n",
       "      <td>3</td>\n",
       "      <td>Hirvonen, Mrs. Alexander (Helga E Lindqvist)</td>\n",
       "      <td>female</td>\n",
       "      <td>22.0</td>\n",
       "      <td>1</td>\n",
       "      <td>1</td>\n",
       "      <td>3101298</td>\n",
       "      <td>12.2875</td>\n",
       "      <td>NaN</td>\n",
       "      <td>S</td>\n",
       "    </tr>\n",
       "  </tbody>\n",
       "</table>\n",
       "</div>"
      ],
      "text/plain": [
       "   PassengerId  Pclass                                          Name     Sex  \\\n",
       "0          892       3                              Kelly, Mr. James    male   \n",
       "1          893       3              Wilkes, Mrs. James (Ellen Needs)  female   \n",
       "2          894       2                     Myles, Mr. Thomas Francis    male   \n",
       "3          895       3                              Wirz, Mr. Albert    male   \n",
       "4          896       3  Hirvonen, Mrs. Alexander (Helga E Lindqvist)  female   \n",
       "\n",
       "    Age  SibSp  Parch   Ticket     Fare Cabin Embarked  \n",
       "0  34.5      0      0   330911   7.8292   NaN        Q  \n",
       "1  47.0      1      0   363272   7.0000   NaN        S  \n",
       "2  62.0      0      0   240276   9.6875   NaN        Q  \n",
       "3  27.0      0      0   315154   8.6625   NaN        S  \n",
       "4  22.0      1      1  3101298  12.2875   NaN        S  "
      ]
     },
     "execution_count": 4,
     "metadata": {},
     "output_type": "execute_result"
    }
   ],
   "source": [
    "test = pd.read_csv('./titanic/test.csv')\n",
    "test.head()"
   ]
  },
  {
   "cell_type": "code",
   "execution_count": 5,
   "metadata": {},
   "outputs": [
    {
     "data": {
      "text/html": [
       "<div>\n",
       "<style scoped>\n",
       "    .dataframe tbody tr th:only-of-type {\n",
       "        vertical-align: middle;\n",
       "    }\n",
       "\n",
       "    .dataframe tbody tr th {\n",
       "        vertical-align: top;\n",
       "    }\n",
       "\n",
       "    .dataframe thead th {\n",
       "        text-align: right;\n",
       "    }\n",
       "</style>\n",
       "<table border=\"1\" class=\"dataframe\">\n",
       "  <thead>\n",
       "    <tr style=\"text-align: right;\">\n",
       "      <th></th>\n",
       "      <th>PassengerId</th>\n",
       "      <th>Survived</th>\n",
       "    </tr>\n",
       "  </thead>\n",
       "  <tbody>\n",
       "    <tr>\n",
       "      <th>0</th>\n",
       "      <td>892</td>\n",
       "      <td>0</td>\n",
       "    </tr>\n",
       "    <tr>\n",
       "      <th>1</th>\n",
       "      <td>893</td>\n",
       "      <td>1</td>\n",
       "    </tr>\n",
       "    <tr>\n",
       "      <th>2</th>\n",
       "      <td>894</td>\n",
       "      <td>0</td>\n",
       "    </tr>\n",
       "    <tr>\n",
       "      <th>3</th>\n",
       "      <td>895</td>\n",
       "      <td>0</td>\n",
       "    </tr>\n",
       "    <tr>\n",
       "      <th>4</th>\n",
       "      <td>896</td>\n",
       "      <td>1</td>\n",
       "    </tr>\n",
       "  </tbody>\n",
       "</table>\n",
       "</div>"
      ],
      "text/plain": [
       "   PassengerId  Survived\n",
       "0          892         0\n",
       "1          893         1\n",
       "2          894         0\n",
       "3          895         0\n",
       "4          896         1"
      ]
     },
     "execution_count": 5,
     "metadata": {},
     "output_type": "execute_result"
    }
   ],
   "source": [
    "sumbission = pd.read_csv('./titanic/sample_submission.csv')\n",
    "sumbission.head()"
   ]
  },
  {
   "cell_type": "markdown",
   "metadata": {},
   "source": [
    "## fill NaN in train data"
   ]
  },
  {
   "cell_type": "code",
   "execution_count": 6,
   "metadata": {},
   "outputs": [],
   "source": [
    "train['Embarked'] = train['Embarked'].fillna('S')"
   ]
  },
  {
   "cell_type": "code",
   "execution_count": 7,
   "metadata": {},
   "outputs": [
    {
     "data": {
      "text/plain": [
       "Sex\n",
       "female    27.915709\n",
       "male      30.726645\n",
       "Name: Age, dtype: float64"
      ]
     },
     "execution_count": 7,
     "metadata": {},
     "output_type": "execute_result"
    }
   ],
   "source": [
    "# 그냥 남/ 여평균으로 대체\n",
    "train.groupby(['Sex']).mean()['Age']"
   ]
  },
  {
   "cell_type": "code",
   "execution_count": 8,
   "metadata": {},
   "outputs": [],
   "source": [
    "test.drop(['Ticket', 'Fare', 'Cabin'], axis=1, inplace=True)"
   ]
  },
  {
   "cell_type": "code",
   "execution_count": 9,
   "metadata": {},
   "outputs": [],
   "source": [
    "train.drop(['Cabin','Ticket', 'Fare'], axis=1, inplace=True)"
   ]
  },
  {
   "cell_type": "code",
   "execution_count": 10,
   "metadata": {},
   "outputs": [],
   "source": [
    "train.loc[(train['Age'].isnull() == True) & (train['Sex'] == 'male'), 'Age'] = 30\n",
    "train.loc[(train['Age'].isnull() == True) & (train['Sex'] == 'female'), 'Age'] = 27\n",
    "test.loc[(test['Age'].isnull() == True) & (test['Sex'] == 'male'), 'Age'] = 30\n",
    "test.loc[(test['Age'].isnull() == True) & (test['Sex'] == 'female'), 'Age'] = 27"
   ]
  },
  {
   "cell_type": "code",
   "execution_count": 11,
   "metadata": {},
   "outputs": [
    {
     "data": {
      "text/plain": [
       "PassengerId    0\n",
       "Survived       0\n",
       "Pclass         0\n",
       "Name           0\n",
       "Sex            0\n",
       "Age            0\n",
       "SibSp          0\n",
       "Parch          0\n",
       "Embarked       0\n",
       "dtype: int64"
      ]
     },
     "execution_count": 11,
     "metadata": {},
     "output_type": "execute_result"
    }
   ],
   "source": [
    "train.isna().sum()"
   ]
  },
  {
   "cell_type": "code",
   "execution_count": 12,
   "metadata": {},
   "outputs": [
    {
     "data": {
      "text/plain": [
       "PassengerId    0\n",
       "Pclass         0\n",
       "Name           0\n",
       "Sex            0\n",
       "Age            0\n",
       "SibSp          0\n",
       "Parch          0\n",
       "Embarked       0\n",
       "dtype: int64"
      ]
     },
     "execution_count": 12,
     "metadata": {},
     "output_type": "execute_result"
    }
   ],
   "source": [
    "test.isna().sum()"
   ]
  },
  {
   "cell_type": "code",
   "execution_count": 13,
   "metadata": {},
   "outputs": [
    {
     "data": {
      "text/html": [
       "<div>\n",
       "<style scoped>\n",
       "    .dataframe tbody tr th:only-of-type {\n",
       "        vertical-align: middle;\n",
       "    }\n",
       "\n",
       "    .dataframe tbody tr th {\n",
       "        vertical-align: top;\n",
       "    }\n",
       "\n",
       "    .dataframe thead th {\n",
       "        text-align: right;\n",
       "    }\n",
       "</style>\n",
       "<table border=\"1\" class=\"dataframe\">\n",
       "  <thead>\n",
       "    <tr style=\"text-align: right;\">\n",
       "      <th></th>\n",
       "      <th>PassengerId</th>\n",
       "      <th>Survived</th>\n",
       "      <th>Pclass</th>\n",
       "      <th>Name</th>\n",
       "      <th>Sex</th>\n",
       "      <th>Age</th>\n",
       "      <th>SibSp</th>\n",
       "      <th>Parch</th>\n",
       "      <th>Embarked</th>\n",
       "    </tr>\n",
       "  </thead>\n",
       "  <tbody>\n",
       "    <tr>\n",
       "      <th>0</th>\n",
       "      <td>1</td>\n",
       "      <td>0</td>\n",
       "      <td>3</td>\n",
       "      <td>Braund, Mr. Owen Harris</td>\n",
       "      <td>1</td>\n",
       "      <td>22.0</td>\n",
       "      <td>1</td>\n",
       "      <td>0</td>\n",
       "      <td>2</td>\n",
       "    </tr>\n",
       "    <tr>\n",
       "      <th>1</th>\n",
       "      <td>2</td>\n",
       "      <td>1</td>\n",
       "      <td>1</td>\n",
       "      <td>Cumings, Mrs. John Bradley (Florence Briggs Th...</td>\n",
       "      <td>0</td>\n",
       "      <td>38.0</td>\n",
       "      <td>1</td>\n",
       "      <td>0</td>\n",
       "      <td>0</td>\n",
       "    </tr>\n",
       "    <tr>\n",
       "      <th>2</th>\n",
       "      <td>3</td>\n",
       "      <td>1</td>\n",
       "      <td>3</td>\n",
       "      <td>Heikkinen, Miss. Laina</td>\n",
       "      <td>0</td>\n",
       "      <td>26.0</td>\n",
       "      <td>0</td>\n",
       "      <td>0</td>\n",
       "      <td>2</td>\n",
       "    </tr>\n",
       "    <tr>\n",
       "      <th>3</th>\n",
       "      <td>4</td>\n",
       "      <td>1</td>\n",
       "      <td>1</td>\n",
       "      <td>Futrelle, Mrs. Jacques Heath (Lily May Peel)</td>\n",
       "      <td>0</td>\n",
       "      <td>35.0</td>\n",
       "      <td>1</td>\n",
       "      <td>0</td>\n",
       "      <td>2</td>\n",
       "    </tr>\n",
       "    <tr>\n",
       "      <th>4</th>\n",
       "      <td>5</td>\n",
       "      <td>0</td>\n",
       "      <td>3</td>\n",
       "      <td>Allen, Mr. William Henry</td>\n",
       "      <td>1</td>\n",
       "      <td>35.0</td>\n",
       "      <td>0</td>\n",
       "      <td>0</td>\n",
       "      <td>2</td>\n",
       "    </tr>\n",
       "  </tbody>\n",
       "</table>\n",
       "</div>"
      ],
      "text/plain": [
       "   PassengerId  Survived  Pclass  \\\n",
       "0            1         0       3   \n",
       "1            2         1       1   \n",
       "2            3         1       3   \n",
       "3            4         1       1   \n",
       "4            5         0       3   \n",
       "\n",
       "                                                Name  Sex   Age  SibSp  Parch  \\\n",
       "0                            Braund, Mr. Owen Harris    1  22.0      1      0   \n",
       "1  Cumings, Mrs. John Bradley (Florence Briggs Th...    0  38.0      1      0   \n",
       "2                             Heikkinen, Miss. Laina    0  26.0      0      0   \n",
       "3       Futrelle, Mrs. Jacques Heath (Lily May Peel)    0  35.0      1      0   \n",
       "4                           Allen, Mr. William Henry    1  35.0      0      0   \n",
       "\n",
       "   Embarked  \n",
       "0         2  \n",
       "1         0  \n",
       "2         2  \n",
       "3         2  \n",
       "4         2  "
      ]
     },
     "execution_count": 13,
     "metadata": {},
     "output_type": "execute_result"
    }
   ],
   "source": [
    "# Sex, Embarked Encoding\n",
    "for i in ['Sex', 'Embarked'] :\n",
    "    encoder = LabelEncoder()\n",
    "    encoder.fit(train[i])\n",
    "    encoder.fit(test[i])\n",
    "    train[i] = encoder.transform(train[i])\n",
    "    test[i] = encoder.transform(test[i])\n",
    "train.head()"
   ]
  },
  {
   "cell_type": "code",
   "execution_count": 14,
   "metadata": {},
   "outputs": [],
   "source": [
    "y_train= train[\"Survived\"]\n",
    "X_train = train.drop(['Survived', 'Name'], axis = 1)"
   ]
  },
  {
   "cell_type": "code",
   "execution_count": 15,
   "metadata": {},
   "outputs": [
    {
     "data": {
      "text/plain": [
       "PassengerId      0\n",
       "Pclass           0\n",
       "Name             0\n",
       "Sex              0\n",
       "Age             86\n",
       "SibSp            0\n",
       "Parch            0\n",
       "Ticket           0\n",
       "Fare             1\n",
       "Cabin          327\n",
       "Embarked         0\n",
       "dtype: int64"
      ]
     },
     "execution_count": 15,
     "metadata": {},
     "output_type": "execute_result"
    }
   ],
   "source": [
    "test2 = pd.read_csv('./titanic/test.csv')\n",
    "test2.isna().sum()"
   ]
  },
  {
   "cell_type": "code",
   "execution_count": 19,
   "metadata": {},
   "outputs": [
    {
     "data": {
      "text/html": [
       "<div>\n",
       "<style scoped>\n",
       "    .dataframe tbody tr th:only-of-type {\n",
       "        vertical-align: middle;\n",
       "    }\n",
       "\n",
       "    .dataframe tbody tr th {\n",
       "        vertical-align: top;\n",
       "    }\n",
       "\n",
       "    .dataframe thead th {\n",
       "        text-align: right;\n",
       "    }\n",
       "</style>\n",
       "<table border=\"1\" class=\"dataframe\">\n",
       "  <thead>\n",
       "    <tr style=\"text-align: right;\">\n",
       "      <th></th>\n",
       "      <th>PassengerId</th>\n",
       "      <th>Pclass</th>\n",
       "      <th>Name</th>\n",
       "      <th>Sex</th>\n",
       "      <th>Age</th>\n",
       "      <th>SibSp</th>\n",
       "      <th>Parch</th>\n",
       "      <th>Ticket</th>\n",
       "      <th>Fare</th>\n",
       "      <th>Cabin</th>\n",
       "      <th>Embarked</th>\n",
       "    </tr>\n",
       "  </thead>\n",
       "  <tbody>\n",
       "    <tr>\n",
       "      <th>0</th>\n",
       "      <td>892</td>\n",
       "      <td>3</td>\n",
       "      <td>Kelly, Mr. James</td>\n",
       "      <td>NaN</td>\n",
       "      <td>34.5</td>\n",
       "      <td>0</td>\n",
       "      <td>0</td>\n",
       "      <td>330911</td>\n",
       "      <td>7.8292</td>\n",
       "      <td>NaN</td>\n",
       "      <td>Q</td>\n",
       "    </tr>\n",
       "    <tr>\n",
       "      <th>1</th>\n",
       "      <td>893</td>\n",
       "      <td>3</td>\n",
       "      <td>Wilkes, Mrs. James (Ellen Needs)</td>\n",
       "      <td>NaN</td>\n",
       "      <td>47.0</td>\n",
       "      <td>1</td>\n",
       "      <td>0</td>\n",
       "      <td>363272</td>\n",
       "      <td>7.0000</td>\n",
       "      <td>NaN</td>\n",
       "      <td>S</td>\n",
       "    </tr>\n",
       "    <tr>\n",
       "      <th>2</th>\n",
       "      <td>894</td>\n",
       "      <td>2</td>\n",
       "      <td>Myles, Mr. Thomas Francis</td>\n",
       "      <td>NaN</td>\n",
       "      <td>62.0</td>\n",
       "      <td>0</td>\n",
       "      <td>0</td>\n",
       "      <td>240276</td>\n",
       "      <td>9.6875</td>\n",
       "      <td>NaN</td>\n",
       "      <td>Q</td>\n",
       "    </tr>\n",
       "  </tbody>\n",
       "</table>\n",
       "</div>"
      ],
      "text/plain": [
       "   PassengerId  Pclass                              Name  Sex   Age  SibSp  \\\n",
       "0          892       3                  Kelly, Mr. James  NaN  34.5      0   \n",
       "1          893       3  Wilkes, Mrs. James (Ellen Needs)  NaN  47.0      1   \n",
       "2          894       2         Myles, Mr. Thomas Francis  NaN  62.0      0   \n",
       "\n",
       "   Parch  Ticket    Fare Cabin Embarked  \n",
       "0      0  330911  7.8292   NaN        Q  \n",
       "1      0  363272  7.0000   NaN        S  \n",
       "2      0  240276  9.6875   NaN        Q  "
      ]
     },
     "execution_count": 19,
     "metadata": {},
     "output_type": "execute_result"
    }
   ],
   "source": [
    "test2['Sex'] = test2['Sex'].map({'male':1, 'female': 0})\n",
    "test2.head(3)"
   ]
  },
  {
   "cell_type": "code",
   "execution_count": 20,
   "metadata": {},
   "outputs": [],
   "source": [
    "def findAverage(pclass, sex) :\n",
    "    if pclass == 1 :\n",
    "        if sex == 'female' :\n",
    "            return 34\n",
    "        else :\n",
    "            return 41\n",
    "    elif pclass == 2 :\n",
    "        if sex == 'female' :\n",
    "            return 28\n",
    "        else :\n",
    "            return 30\n",
    "    else :\n",
    "        if sex == 'female' :\n",
    "            return 21\n",
    "        else :\n",
    "            return 26"
   ]
  },
  {
   "cell_type": "code",
   "execution_count": 21,
   "metadata": {},
   "outputs": [
    {
     "name": "stderr",
     "output_type": "stream",
     "text": [
      "C:\\Users\\Playdata\\anaconda3\\lib\\site-packages\\pandas\\core\\ops\\array_ops.py:253: FutureWarning: elementwise comparison failed; returning scalar instead, but in the future will perform elementwise comparison\n",
      "  res_values = method(rvalues)\n"
     ]
    },
    {
     "data": {
      "text/plain": [
       "86"
      ]
     },
     "execution_count": 21,
     "metadata": {},
     "output_type": "execute_result"
    }
   ],
   "source": [
    "test2.loc[(test2.Age.isnull()) & (test2.Sex == 'male') & (test2.Pclass == 1),'Age'] = findAverage(1, 'male')\n",
    "test2.loc[(test2.Age.isnull()) & (test2.Sex == 'male') & (test2.Pclass == 2),'Age'] = findAverage(2, 'male')\n",
    "test2.loc[(test2.Age.isnull()) & (test2.Sex == 'male') & (test2.Pclass == 3),'Age'] = findAverage(3, 'male')\n",
    "test2.loc[(test2.Age.isnull()) & (test2.Sex == 'female') & (test2.Pclass == 1),'Age'] = findAverage(1, 'female')\n",
    "test2.loc[(test2.Age.isnull()) & (test2.Sex == 'female') & (test2.Pclass == 2),'Age'] = findAverage(2, 'female')\n",
    "test2.loc[(test2.Age.isnull()) & (test2.Sex == 'female') & (test2.Pclass == 3),'Age'] = findAverage(3, 'female')\n",
    "test2.Age.isnull().sum()"
   ]
  },
  {
   "cell_type": "code",
   "execution_count": 22,
   "metadata": {},
   "outputs": [
    {
     "data": {
      "text/plain": [
       "PassengerId      0\n",
       "Pclass           0\n",
       "Name             0\n",
       "Sex            418\n",
       "Age             86\n",
       "SibSp            0\n",
       "Parch            0\n",
       "Ticket           0\n",
       "Fare             1\n",
       "Cabin          327\n",
       "Embarked         0\n",
       "dtype: int64"
      ]
     },
     "execution_count": 22,
     "metadata": {},
     "output_type": "execute_result"
    }
   ],
   "source": [
    "test2.isna().sum()"
   ]
  },
  {
   "cell_type": "markdown",
   "metadata": {},
   "source": [
    "# 2. visualize"
   ]
  },
  {
   "cell_type": "code",
   "execution_count": 26,
   "metadata": {},
   "outputs": [
    {
     "data": {
      "image/png": "[encoded data removed]",
      "text/plain": [
       "<Figure size 432x288 with 1 Axes>"
      ]
     },
     "metadata": {
      "needs_background": "light"
     },
     "output_type": "display_data"
    }
   ],
   "source": [
    "ax = sns.countplot(x='Pclass', hue=\"Survived\", data=train)\n",
    "plt.show()"
   ]
  },
  {
   "cell_type": "code",
   "execution_count": 28,
   "metadata": {},
   "outputs": [
    {
     "data": {
      "text/plain": [
       "<matplotlib.axes._subplots.AxesSubplot at 0x28bea1a9648>"
      ]
     },
     "execution_count": 28,
     "metadata": {},
     "output_type": "execute_result"
    },
    {
     "data": {
      "image/png": "[encoded data removed]",
      "text/plain": [
       "<Figure size 720x360 with 1 Axes>"
      ]
     },
     "metadata": {
      "needs_background": "light"
     },
     "output_type": "display_data"
    }
   ],
   "source": [
    "# Pclass counts for Embarked\n",
    "\n",
    "Pclass1 = train[train['Pclass'] == 1]['Embarked'].value_counts()\n",
    "Pclass2 = train[train['Pclass'] == 2]['Embarked'].value_counts()\n",
    "Pclass3 = train[train['Pclass'] == 3]['Embarked'].value_counts()\n",
    "df = pd.DataFrame([Pclass1, Pclass2, Pclass3])\n",
    "df.index = ['1st class', '2nd class', '3rd class']\n",
    "df.plot(kind='bar', stacked=True, figsize=(10,5))"
   ]
  },
  {
   "cell_type": "code",
   "execution_count": 30,
   "metadata": {},
   "outputs": [
    {
     "data": {
      "text/plain": [
       "<matplotlib.axes._subplots.AxesSubplot at 0x28bea24c208>"
      ]
     },
     "execution_count": 30,
     "metadata": {},
     "output_type": "execute_result"
    },
    {
     "data": {
      "image/png": "[encoded data removed]",
      "text/plain": [
       "<Figure size 432x288 with 1 Axes>"
      ]
     },
     "metadata": {
      "needs_background": "light"
     },
     "output_type": "display_data"
    }
   ],
   "source": [
    "import seaborn as sns\n",
    "sns.barplot(\n",
    "    data = train,\n",
    "    x = \"Pclass\",\n",
    "    y = \"Survived\",\n",
    "    hue = \"Embarked\"\n",
    ")\n",
    "\n",
    "# Pclass 가 3등급인 사람들은 1, 2 등급 보다 생존률이 현저히 낮음, 타이타닉의 탑승순서는 S → C → Q \n",
    "# 그 중에서도 제일 먼저 탑승한 S-사우스햄튼에서 탄 3등급 객실이 사람들의 생존율이 0.18 이었음.\n"
   ]
  },
  {
   "cell_type": "code",
   "execution_count": 23,
   "metadata": {},
   "outputs": [],
   "source": [
    "#importing all the required ML packages\n",
    "from sklearn.linear_model import LogisticRegression #logistic regression\n",
    "from sklearn import svm #support vector Machine\n",
    "from sklearn.ensemble import RandomForestClassifier #Random Forest\n",
    "from sklearn.neighbors import KNeighborsClassifier #KNN\n",
    "from sklearn.naive_bayes import GaussianNB #Naive bayes\n",
    "from sklearn.tree import DecisionTreeClassifier #Decision Tree\n",
    "from sklearn.model_selection import train_test_split #training and testing data split\n",
    "from sklearn import metrics #accuracy measure\n",
    "from sklearn.metrics import confusion_matrix #for confusion mat"
   ]
  },
  {
   "cell_type": "code",
   "execution_count": 24,
   "metadata": {},
   "outputs": [],
   "source": [
    "from sklearn.model_selection import train_test_split\n",
    "import warnings\n",
    "warnings.filterwarnings('ignore')\n",
    "from sklearn.tree import DecisionTreeClassifier\n",
    "from sklearn.ensemble import RandomForestClassifier\n",
    "from sklearn.linear_model import LogisticRegression\n",
    "from sklearn.metrics import accuracy_score #채점 자동으로 매겨주는 것\n",
    "# 결정트리, Random forest, 로지스틱 회귀를 위한 사이킷런 Classifier 클래스 생성\n",
    "dt_clf = DecisionTreeClassifier(random_state=11)\n",
    "rf_clf = RandomForestClassifier(random_state=11)\n",
    "lr_clf = LogisticRegression()\n",
    "\n",
    "X_trains = X_train.copy()\n"
   ]
  },
  {
   "cell_type": "markdown",
   "metadata": {},
   "source": [
    "# 3. Modeling"
   ]
  },
  {
   "cell_type": "code",
   "execution_count": 61,
   "metadata": {},
   "outputs": [
    {
     "name": "stdout",
     "output_type": "stream",
     "text": [
      "(712, 7)\n",
      "(179, 7)\n",
      "(712,)\n",
      "(179,)\n"
     ]
    }
   ],
   "source": [
    "from sklearn.model_selection import train_test_split\n",
    "\n",
    "X_train2, X_test2, y_train2, y_test2 = train_test_split(X_trains, y_train, \n",
    "                                                    test_size=0.2, \n",
    "                                                    random_state=10)\n",
    "print(X_train2.shape)\n",
    "print(X_test2.shape)\n",
    "print(y_train2.shape)\n",
    "print(y_test2.shape)"
   ]
  },
  {
   "cell_type": "code",
   "execution_count": 22,
   "metadata": {},
   "outputs": [
    {
     "name": "stdout",
     "output_type": "stream",
     "text": [
      "The accuracy of the Decision Tree is 0.7541899441340782\n"
     ]
    }
   ],
   "source": [
    "# Decision tree\n",
    "\n",
    "model=DecisionTreeClassifier()\n",
    "model.fit(X_train2, y_train2)\n",
    "prediction4=model.predict(X_test2)\n",
    "print('The accuracy of the Decision Tree is', metrics.accuracy_score(prediction4, y_test2))"
   ]
  },
  {
   "cell_type": "code",
   "execution_count": 22,
   "metadata": {},
   "outputs": [
    {
     "name": "stdout",
     "output_type": "stream",
     "text": [
      "The accuracy of the Random Forests is 0.8212290502793296\n"
     ]
    }
   ],
   "source": [
    "# Random forest\n",
    "\n",
    "model = RandomForestClassifier()\n",
    "model.fit(X_train2, y_train2)\n",
    "prediction6 = model.predict(X_test2)\n",
    "print('The accuracy of the Random Forests is', metrics.accuracy_score(prediction6, y_test2))"
   ]
  },
  {
   "cell_type": "markdown",
   "metadata": {},
   "source": [
    "# GridGV"
   ]
  },
  {
   "cell_type": "code",
   "execution_count": 1,
   "metadata": {},
   "outputs": [
    {
     "ename": "NameError",
     "evalue": "name 'RandomForestClassifier' is not defined",
     "output_type": "error",
     "traceback": [
      "\u001b[1;31m---------------------------------------------------------------------------\u001b[0m",
      "\u001b[1;31mNameError\u001b[0m                                 Traceback (most recent call last)",
      "\u001b[1;32m<ipython-input-1-39b5d5d4c8d5>\u001b[0m in \u001b[0;36m<module>\u001b[1;34m\u001b[0m\n\u001b[0;32m     10\u001b[0m }\n\u001b[0;32m     11\u001b[0m \u001b[1;31m# RandomForestClassifier 객체 생성 후 GridSearchCV 수행\u001b[0m\u001b[1;33m\u001b[0m\u001b[1;33m\u001b[0m\u001b[1;33m\u001b[0m\u001b[0m\n\u001b[1;32m---> 12\u001b[1;33m \u001b[0mrf_clf\u001b[0m \u001b[1;33m=\u001b[0m \u001b[0mRandomForestClassifier\u001b[0m\u001b[1;33m(\u001b[0m\u001b[0mrandom_state\u001b[0m\u001b[1;33m=\u001b[0m\u001b[1;36m0\u001b[0m\u001b[1;33m,\u001b[0m \u001b[0mn_jobs\u001b[0m\u001b[1;33m=\u001b[0m\u001b[1;33m-\u001b[0m\u001b[1;36m1\u001b[0m\u001b[1;33m)\u001b[0m\u001b[1;33m\u001b[0m\u001b[1;33m\u001b[0m\u001b[0m\n\u001b[0m\u001b[0;32m     13\u001b[0m \u001b[0mgrid_cv\u001b[0m \u001b[1;33m=\u001b[0m \u001b[0mGridSearchCV\u001b[0m\u001b[1;33m(\u001b[0m\u001b[0mrf_clf\u001b[0m \u001b[1;33m,\u001b[0m \u001b[0mparam_grid\u001b[0m\u001b[1;33m=\u001b[0m\u001b[0mparams\u001b[0m \u001b[1;33m,\u001b[0m \u001b[0mcv\u001b[0m\u001b[1;33m=\u001b[0m\u001b[1;36m2\u001b[0m\u001b[1;33m,\u001b[0m \u001b[0mn_jobs\u001b[0m\u001b[1;33m=\u001b[0m\u001b[1;33m-\u001b[0m\u001b[1;36m1\u001b[0m\u001b[1;33m,\u001b[0m \u001b[0mverbose\u001b[0m\u001b[1;33m=\u001b[0m\u001b[1;36m2\u001b[0m \u001b[1;33m)\u001b[0m\u001b[1;33m\u001b[0m\u001b[1;33m\u001b[0m\u001b[0m\n\u001b[0;32m     14\u001b[0m \u001b[0mgrid_cv\u001b[0m\u001b[1;33m.\u001b[0m\u001b[0mfit\u001b[0m\u001b[1;33m(\u001b[0m\u001b[0mX_train2\u001b[0m \u001b[1;33m,\u001b[0m \u001b[0my_train2\u001b[0m\u001b[1;33m)\u001b[0m\u001b[1;33m\u001b[0m\u001b[1;33m\u001b[0m\u001b[0m\n",
      "\u001b[1;31mNameError\u001b[0m: name 'RandomForestClassifier' is not defined"
     ]
    }
   ],
   "source": [
    "from sklearn.model_selection import GridSearchCV\n",
    "import time\n",
    "\n",
    "start = time.time()\n",
    "params = {\n",
    "    'n_estimators':\n",
    "    'max_depth' : , \n",
    "    'min_samples_leaf' : \n",
    "    'min_samples_split' : \n",
    "}\n",
    "# RandomForestClassifier 객체 생성 후 GridSearchCV 수행\n",
    "rf_clf = RandomForestClassifier(random_state=0, n_jobs=-1)\n",
    "grid_cv = GridSearchCV(rf_clf , param_grid=params , cv=2, n_jobs=-1, verbose=2 )\n",
    "grid_cv.fit(X_train2 , y_train2)\n",
    "\n",
    "#print('최적 하이퍼 파라미터:\\n', grid_cv.best_params_)\n",
    "print('최고 예측 정확도: {0:.4f}'.format(grid_cv.best_score_))\n",
    "\n",
    "print('실행시간 : ', time.time()-start)"
   ]
  },
  {
   "cell_type": "code",
   "execution_count": 1,
   "metadata": {},
   "outputs": [
    {
     "ename": "NameError",
     "evalue": "name 'RandomForestClassifier' is not defined",
     "output_type": "error",
     "traceback": [
      "\u001b[1;31m---------------------------------------------------------------------------\u001b[0m",
      "\u001b[1;31mNameError\u001b[0m                                 Traceback (most recent call last)",
      "\u001b[1;32m<ipython-input-1-d5e7ca440fe1>\u001b[0m in \u001b[0;36m<module>\u001b[1;34m\u001b[0m\n\u001b[1;32m----> 1\u001b[1;33m \u001b[0mrf_clf1\u001b[0m \u001b[1;33m=\u001b[0m \u001b[0mRandomForestClassifier\u001b[0m\u001b[1;33m(\u001b[0m\u001b[0mn_estimators\u001b[0m\u001b[1;33m=\u001b[0m\u001b[1;36m250\u001b[0m\u001b[1;33m,\u001b[0m \u001b[0mmax_depth\u001b[0m\u001b[1;33m=\u001b[0m\u001b[1;36m3\u001b[0m\u001b[1;33m,\u001b[0m \u001b[0mmin_samples_leaf\u001b[0m\u001b[1;33m=\u001b[0m\u001b[1;36m6\u001b[0m\u001b[1;33m,\u001b[0m\u001b[0mmin_samples_split\u001b[0m\u001b[1;33m=\u001b[0m\u001b[1;36m2\u001b[0m\u001b[1;33m,\u001b[0m \u001b[0mrandom_state\u001b[0m\u001b[1;33m=\u001b[0m\u001b[1;36m0\u001b[0m\u001b[1;33m)\u001b[0m\u001b[1;33m\u001b[0m\u001b[1;33m\u001b[0m\u001b[0m\n\u001b[0m\u001b[0;32m      2\u001b[0m \u001b[0mrf_clf1\u001b[0m\u001b[1;33m.\u001b[0m\u001b[0mfit\u001b[0m\u001b[1;33m(\u001b[0m\u001b[0mX_train2\u001b[0m \u001b[1;33m,\u001b[0m \u001b[0my_train2\u001b[0m\u001b[1;33m)\u001b[0m\u001b[1;33m\u001b[0m\u001b[1;33m\u001b[0m\u001b[0m\n\u001b[0;32m      3\u001b[0m \u001b[0mpred\u001b[0m \u001b[1;33m=\u001b[0m \u001b[0mrf_clf1\u001b[0m\u001b[1;33m.\u001b[0m\u001b[0mpredict\u001b[0m\u001b[1;33m(\u001b[0m\u001b[0mX_test2\u001b[0m\u001b[1;33m)\u001b[0m\u001b[1;33m\u001b[0m\u001b[1;33m\u001b[0m\u001b[0m\n\u001b[0;32m      4\u001b[0m \u001b[0mprint\u001b[0m\u001b[1;33m(\u001b[0m\u001b[1;34m'Predict Accuracy: {0:.4f}'\u001b[0m\u001b[1;33m.\u001b[0m\u001b[0mformat\u001b[0m\u001b[1;33m(\u001b[0m\u001b[0maccuracy_score\u001b[0m\u001b[1;33m(\u001b[0m\u001b[0my_test2\u001b[0m \u001b[1;33m,\u001b[0m \u001b[0mpred\u001b[0m\u001b[1;33m)\u001b[0m\u001b[1;33m)\u001b[0m\u001b[1;33m)\u001b[0m\u001b[1;33m\u001b[0m\u001b[1;33m\u001b[0m\u001b[0m\n",
      "\u001b[1;31mNameError\u001b[0m: name 'RandomForestClassifier' is not defined"
     ]
    }
   ],
   "source": [
    "rf_clf1 = RandomForestClassifier(n_estimators=250, max_depth=3, min_samples_leaf=6,min_samples_split=2, random_state=0)\n",
    "rf_clf1.fit(X_train2 , y_train2)\n",
    "pred = rf_clf1.predict(X_test2)\n",
    "print('Predict Accuracy: {0:.4f}'.format(accuracy_score(y_test2 , pred)))"
   ]
  },
  {
   "cell_type": "markdown",
   "metadata": {},
   "source": [
    "예측 정확도: 0.8547\n",
    "\n",
    "예측 정확도: 0.8715\n",
    "                                 \n",
    "                       "
   ]
  },
  {
   "cell_type": "markdown",
   "metadata": {},
   "source": [
    "# Randomized Search"
   ]
  },
  {
   "cell_type": "code",
   "execution_count": 29,
   "metadata": {},
   "outputs": [
    {
     "name": "stdout",
     "output_type": "stream",
     "text": [
      "Parameters currently in use:\n",
      "\n",
      "{'bootstrap': True, 'ccp_alpha': 0.0, 'class_weight': None, 'criterion': 'gini', 'max_depth': None, 'max_features': 'auto', 'max_leaf_nodes': None, 'max_samples': None, 'min_impurity_decrease': 0.0, 'min_impurity_split': None, 'min_samples_leaf': 1, 'min_samples_split': 2, 'min_weight_fraction_leaf': 0.0, 'n_estimators': 100, 'n_jobs': None, 'oob_score': False, 'random_state': None, 'verbose': 0, 'warm_start': False}\n",
      "Fitting 3 folds for each of 100 candidates, totalling 300 fits\n",
      "[CV] n_estimators=900, min_samples_split=5, min_samples_leaf=3, max_features=auto, max_depth=12 \n"
     ]
    },
    {
     "name": "stderr",
     "output_type": "stream",
     "text": [
      "[Parallel(n_jobs=1)]: Using backend SequentialBackend with 1 concurrent workers.\n"
     ]
    },
    {
     "name": "stdout",
     "output_type": "stream",
     "text": [
      "[CV]  n_estimators=900, min_samples_split=5, min_samples_leaf=3, max_features=auto, max_depth=12, total=   1.4s\n",
      "[CV] n_estimators=900, min_samples_split=5, min_samples_leaf=3, max_features=auto, max_depth=12 \n"
     ]
    },
    {
     "name": "stderr",
     "output_type": "stream",
     "text": [
      "[Parallel(n_jobs=1)]: Done   1 out of   1 | elapsed:    1.3s remaining:    0.0s\n"
     ]
    },
    {
     "name": "stdout",
     "output_type": "stream",
     "text": [
      "[CV]  n_estimators=900, min_samples_split=5, min_samples_leaf=3, max_features=auto, max_depth=12, total=   1.4s\n",
      "[CV] n_estimators=900, min_samples_split=5, min_samples_leaf=3, max_features=auto, max_depth=12 \n",
      "[CV]  n_estimators=900, min_samples_split=5, min_samples_leaf=3, max_features=auto, max_depth=12, total=   1.7s\n",
      "[CV] n_estimators=600, min_samples_split=15, min_samples_leaf=2, max_features=sqrt, max_depth=12 \n",
      "[CV]  n_estimators=600, min_samples_split=15, min_samples_leaf=2, max_features=sqrt, max_depth=12, total=   1.0s\n",
      "[CV] n_estimators=600, min_samples_split=15, min_samples_leaf=2, max_features=sqrt, max_depth=12 \n",
      "[CV]  n_estimators=600, min_samples_split=15, min_samples_leaf=2, max_features=sqrt, max_depth=12, total=   1.0s\n",
      "[CV] n_estimators=600, min_samples_split=15, min_samples_leaf=2, max_features=sqrt, max_depth=12 \n",
      "[CV]  n_estimators=600, min_samples_split=15, min_samples_leaf=2, max_features=sqrt, max_depth=12, total=   1.0s\n",
      "[CV] n_estimators=1000, min_samples_split=2, min_samples_leaf=10, max_features=sqrt, max_depth=30 \n",
      "[CV]  n_estimators=1000, min_samples_split=2, min_samples_leaf=10, max_features=sqrt, max_depth=30, total=   1.7s\n",
      "[CV] n_estimators=1000, min_samples_split=2, min_samples_leaf=10, max_features=sqrt, max_depth=30 \n",
      "[CV]  n_estimators=1000, min_samples_split=2, min_samples_leaf=10, max_features=sqrt, max_depth=30, total=   1.6s\n",
      "[CV] n_estimators=1000, min_samples_split=2, min_samples_leaf=10, max_features=sqrt, max_depth=30 \n",
      "[CV]  n_estimators=1000, min_samples_split=2, min_samples_leaf=10, max_features=sqrt, max_depth=30, total=   1.8s\n",
      "[CV] n_estimators=1200, min_samples_split=10, min_samples_leaf=10, max_features=sqrt, max_depth=30 \n",
      "[CV]  n_estimators=1200, min_samples_split=10, min_samples_leaf=10, max_features=sqrt, max_depth=30, total=   2.0s\n",
      "[CV] n_estimators=1200, min_samples_split=10, min_samples_leaf=10, max_features=sqrt, max_depth=30 \n",
      "[CV]  n_estimators=1200, min_samples_split=10, min_samples_leaf=10, max_features=sqrt, max_depth=30, total=   2.1s\n",
      "[CV] n_estimators=1200, min_samples_split=10, min_samples_leaf=10, max_features=sqrt, max_depth=30 \n",
      "[CV]  n_estimators=1200, min_samples_split=10, min_samples_leaf=10, max_features=sqrt, max_depth=30, total=   2.0s\n",
      "[CV] n_estimators=800, min_samples_split=10, min_samples_leaf=5, max_features=auto, max_depth=1 \n",
      "[CV]  n_estimators=800, min_samples_split=10, min_samples_leaf=5, max_features=auto, max_depth=1, total=   1.2s\n",
      "[CV] n_estimators=800, min_samples_split=10, min_samples_leaf=5, max_features=auto, max_depth=1 \n",
      "[CV]  n_estimators=800, min_samples_split=10, min_samples_leaf=5, max_features=auto, max_depth=1, total=   1.1s\n",
      "[CV] n_estimators=800, min_samples_split=10, min_samples_leaf=5, max_features=auto, max_depth=1 \n",
      "[CV]  n_estimators=800, min_samples_split=10, min_samples_leaf=5, max_features=auto, max_depth=1, total=   1.2s\n",
      "[CV] n_estimators=1200, min_samples_split=10, min_samples_leaf=5, max_features=sqrt, max_depth=30 \n",
      "[CV]  n_estimators=1200, min_samples_split=10, min_samples_leaf=5, max_features=sqrt, max_depth=30, total=   1.9s\n",
      "[CV] n_estimators=1200, min_samples_split=10, min_samples_leaf=5, max_features=sqrt, max_depth=30 \n",
      "[CV]  n_estimators=1200, min_samples_split=10, min_samples_leaf=5, max_features=sqrt, max_depth=30, total=   1.9s\n",
      "[CV] n_estimators=1200, min_samples_split=10, min_samples_leaf=5, max_features=sqrt, max_depth=30 \n",
      "[CV]  n_estimators=1200, min_samples_split=10, min_samples_leaf=5, max_features=sqrt, max_depth=30, total=   2.2s\n",
      "[CV] n_estimators=200, min_samples_split=10, min_samples_leaf=10, max_features=auto, max_depth=12 \n",
      "[CV]  n_estimators=200, min_samples_split=10, min_samples_leaf=10, max_features=auto, max_depth=12, total=   0.4s\n",
      "[CV] n_estimators=200, min_samples_split=10, min_samples_leaf=10, max_features=auto, max_depth=12 \n",
      "[CV]  n_estimators=200, min_samples_split=10, min_samples_leaf=10, max_features=auto, max_depth=12, total=   0.3s\n",
      "[CV] n_estimators=200, min_samples_split=10, min_samples_leaf=10, max_features=auto, max_depth=12 \n",
      "[CV]  n_estimators=200, min_samples_split=10, min_samples_leaf=10, max_features=auto, max_depth=12, total=   0.4s\n",
      "[CV] n_estimators=300, min_samples_split=5, min_samples_leaf=3, max_features=auto, max_depth=1 \n",
      "[CV]  n_estimators=300, min_samples_split=5, min_samples_leaf=3, max_features=auto, max_depth=1, total=   0.5s\n",
      "[CV] n_estimators=300, min_samples_split=5, min_samples_leaf=3, max_features=auto, max_depth=1 \n",
      "[CV]  n_estimators=300, min_samples_split=5, min_samples_leaf=3, max_features=auto, max_depth=1, total=   0.5s\n",
      "[CV] n_estimators=300, min_samples_split=5, min_samples_leaf=3, max_features=auto, max_depth=1 \n",
      "[CV]  n_estimators=300, min_samples_split=5, min_samples_leaf=3, max_features=auto, max_depth=1, total=   0.4s\n",
      "[CV] n_estimators=200, min_samples_split=15, min_samples_leaf=10, max_features=auto, max_depth=24 \n",
      "[CV]  n_estimators=200, min_samples_split=15, min_samples_leaf=10, max_features=auto, max_depth=24, total=   0.4s\n",
      "[CV] n_estimators=200, min_samples_split=15, min_samples_leaf=10, max_features=auto, max_depth=24 \n",
      "[CV]  n_estimators=200, min_samples_split=15, min_samples_leaf=10, max_features=auto, max_depth=24, total=   0.3s\n",
      "[CV] n_estimators=200, min_samples_split=15, min_samples_leaf=10, max_features=auto, max_depth=24 \n",
      "[CV]  n_estimators=200, min_samples_split=15, min_samples_leaf=10, max_features=auto, max_depth=24, total=   0.3s\n",
      "[CV] n_estimators=300, min_samples_split=2, min_samples_leaf=10, max_features=sqrt, max_depth=12 \n",
      "[CV]  n_estimators=300, min_samples_split=2, min_samples_leaf=10, max_features=sqrt, max_depth=12, total=   0.5s\n",
      "[CV] n_estimators=300, min_samples_split=2, min_samples_leaf=10, max_features=sqrt, max_depth=12 \n",
      "[CV]  n_estimators=300, min_samples_split=2, min_samples_leaf=10, max_features=sqrt, max_depth=12, total=   0.5s\n",
      "[CV] n_estimators=300, min_samples_split=2, min_samples_leaf=10, max_features=sqrt, max_depth=12 \n",
      "[CV]  n_estimators=300, min_samples_split=2, min_samples_leaf=10, max_features=sqrt, max_depth=12, total=   0.5s\n",
      "[CV] n_estimators=100, min_samples_split=15, min_samples_leaf=5, max_features=sqrt, max_depth=18 \n",
      "[CV]  n_estimators=100, min_samples_split=15, min_samples_leaf=5, max_features=sqrt, max_depth=18, total=   0.2s\n",
      "[CV] n_estimators=100, min_samples_split=15, min_samples_leaf=5, max_features=sqrt, max_depth=18 \n",
      "[CV]  n_estimators=100, min_samples_split=15, min_samples_leaf=5, max_features=sqrt, max_depth=18, total=   0.2s\n",
      "[CV] n_estimators=100, min_samples_split=15, min_samples_leaf=5, max_features=sqrt, max_depth=18 \n",
      "[CV]  n_estimators=100, min_samples_split=15, min_samples_leaf=5, max_features=sqrt, max_depth=18, total=   0.2s\n",
      "[CV] n_estimators=300, min_samples_split=10, min_samples_leaf=1, max_features=auto, max_depth=1 \n",
      "[CV]  n_estimators=300, min_samples_split=10, min_samples_leaf=1, max_features=auto, max_depth=1, total=   0.4s\n",
      "[CV] n_estimators=300, min_samples_split=10, min_samples_leaf=1, max_features=auto, max_depth=1 \n",
      "[CV]  n_estimators=300, min_samples_split=10, min_samples_leaf=1, max_features=auto, max_depth=1, total=   0.4s\n",
      "[CV] n_estimators=300, min_samples_split=10, min_samples_leaf=1, max_features=auto, max_depth=1 \n",
      "[CV]  n_estimators=300, min_samples_split=10, min_samples_leaf=1, max_features=auto, max_depth=1, total=   0.5s\n",
      "[CV] n_estimators=600, min_samples_split=10, min_samples_leaf=1, max_features=sqrt, max_depth=6 \n",
      "[CV]  n_estimators=600, min_samples_split=10, min_samples_leaf=1, max_features=sqrt, max_depth=6, total=   1.0s\n",
      "[CV] n_estimators=600, min_samples_split=10, min_samples_leaf=1, max_features=sqrt, max_depth=6 \n",
      "[CV]  n_estimators=600, min_samples_split=10, min_samples_leaf=1, max_features=sqrt, max_depth=6, total=   0.9s\n",
      "[CV] n_estimators=600, min_samples_split=10, min_samples_leaf=1, max_features=sqrt, max_depth=6 \n",
      "[CV]  n_estimators=600, min_samples_split=10, min_samples_leaf=1, max_features=sqrt, max_depth=6, total=   0.9s\n",
      "[CV] n_estimators=900, min_samples_split=10, min_samples_leaf=1, max_features=auto, max_depth=1 \n",
      "[CV]  n_estimators=900, min_samples_split=10, min_samples_leaf=1, max_features=auto, max_depth=1, total=   1.3s\n",
      "[CV] n_estimators=900, min_samples_split=10, min_samples_leaf=1, max_features=auto, max_depth=1 \n",
      "[CV]  n_estimators=900, min_samples_split=10, min_samples_leaf=1, max_features=auto, max_depth=1, total=   1.2s\n",
      "[CV] n_estimators=900, min_samples_split=10, min_samples_leaf=1, max_features=auto, max_depth=1 \n",
      "[CV]  n_estimators=900, min_samples_split=10, min_samples_leaf=1, max_features=auto, max_depth=1, total=   1.3s\n",
      "[CV] n_estimators=400, min_samples_split=5, min_samples_leaf=1, max_features=sqrt, max_depth=1 \n",
      "[CV]  n_estimators=400, min_samples_split=5, min_samples_leaf=1, max_features=sqrt, max_depth=1, total=   0.6s\n",
      "[CV] n_estimators=400, min_samples_split=5, min_samples_leaf=1, max_features=sqrt, max_depth=1 \n",
      "[CV]  n_estimators=400, min_samples_split=5, min_samples_leaf=1, max_features=sqrt, max_depth=1, total=   0.6s\n",
      "[CV] n_estimators=400, min_samples_split=5, min_samples_leaf=1, max_features=sqrt, max_depth=1 \n",
      "[CV]  n_estimators=400, min_samples_split=5, min_samples_leaf=1, max_features=sqrt, max_depth=1, total=   0.6s\n",
      "[CV] n_estimators=800, min_samples_split=2, min_samples_leaf=1, max_features=sqrt, max_depth=24 \n",
      "[CV]  n_estimators=800, min_samples_split=2, min_samples_leaf=1, max_features=sqrt, max_depth=24, total=   1.5s\n",
      "[CV] n_estimators=800, min_samples_split=2, min_samples_leaf=1, max_features=sqrt, max_depth=24 \n",
      "[CV]  n_estimators=800, min_samples_split=2, min_samples_leaf=1, max_features=sqrt, max_depth=24, total=   1.3s\n",
      "[CV] n_estimators=800, min_samples_split=2, min_samples_leaf=1, max_features=sqrt, max_depth=24 \n",
      "[CV]  n_estimators=800, min_samples_split=2, min_samples_leaf=1, max_features=sqrt, max_depth=24, total=   1.4s\n",
      "[CV] n_estimators=800, min_samples_split=2, min_samples_leaf=5, max_features=sqrt, max_depth=24 \n",
      "[CV]  n_estimators=800, min_samples_split=2, min_samples_leaf=5, max_features=sqrt, max_depth=24, total=   1.2s\n",
      "[CV] n_estimators=800, min_samples_split=2, min_samples_leaf=5, max_features=sqrt, max_depth=24 \n",
      "[CV]  n_estimators=800, min_samples_split=2, min_samples_leaf=5, max_features=sqrt, max_depth=24, total=   1.3s\n",
      "[CV] n_estimators=800, min_samples_split=2, min_samples_leaf=5, max_features=sqrt, max_depth=24 \n",
      "[CV]  n_estimators=800, min_samples_split=2, min_samples_leaf=5, max_features=sqrt, max_depth=24, total=   1.4s\n",
      "[CV] n_estimators=1000, min_samples_split=2, min_samples_leaf=1, max_features=sqrt, max_depth=12 \n",
      "[CV]  n_estimators=1000, min_samples_split=2, min_samples_leaf=1, max_features=sqrt, max_depth=12, total=   1.8s\n",
      "[CV] n_estimators=1000, min_samples_split=2, min_samples_leaf=1, max_features=sqrt, max_depth=12 \n",
      "[CV]  n_estimators=1000, min_samples_split=2, min_samples_leaf=1, max_features=sqrt, max_depth=12, total=   1.7s\n",
      "[CV] n_estimators=1000, min_samples_split=2, min_samples_leaf=1, max_features=sqrt, max_depth=12 \n",
      "[CV]  n_estimators=1000, min_samples_split=2, min_samples_leaf=1, max_features=sqrt, max_depth=12, total=   1.8s\n",
      "[CV] n_estimators=700, min_samples_split=10, min_samples_leaf=10, max_features=auto, max_depth=1 \n",
      "[CV]  n_estimators=700, min_samples_split=10, min_samples_leaf=10, max_features=auto, max_depth=1, total=   1.1s\n",
      "[CV] n_estimators=700, min_samples_split=10, min_samples_leaf=10, max_features=auto, max_depth=1 \n",
      "[CV]  n_estimators=700, min_samples_split=10, min_samples_leaf=10, max_features=auto, max_depth=1, total=   1.0s\n",
      "[CV] n_estimators=700, min_samples_split=10, min_samples_leaf=10, max_features=auto, max_depth=1 \n",
      "[CV]  n_estimators=700, min_samples_split=10, min_samples_leaf=10, max_features=auto, max_depth=1, total=   1.1s\n",
      "[CV] n_estimators=1000, min_samples_split=15, min_samples_leaf=3, max_features=auto, max_depth=18 \n",
      "[CV]  n_estimators=1000, min_samples_split=15, min_samples_leaf=3, max_features=auto, max_depth=18, total=   1.8s\n",
      "[CV] n_estimators=1000, min_samples_split=15, min_samples_leaf=3, max_features=auto, max_depth=18 \n",
      "[CV]  n_estimators=1000, min_samples_split=15, min_samples_leaf=3, max_features=auto, max_depth=18, total=   1.6s\n",
      "[CV] n_estimators=1000, min_samples_split=15, min_samples_leaf=3, max_features=auto, max_depth=18 \n",
      "[CV]  n_estimators=1000, min_samples_split=15, min_samples_leaf=3, max_features=auto, max_depth=18, total=   1.6s\n",
      "[CV] n_estimators=400, min_samples_split=15, min_samples_leaf=10, max_features=auto, max_depth=6 \n",
      "[CV]  n_estimators=400, min_samples_split=15, min_samples_leaf=10, max_features=auto, max_depth=6, total=   0.7s\n",
      "[CV] n_estimators=400, min_samples_split=15, min_samples_leaf=10, max_features=auto, max_depth=6 \n",
      "[CV]  n_estimators=400, min_samples_split=15, min_samples_leaf=10, max_features=auto, max_depth=6, total=   0.7s\n",
      "[CV] n_estimators=400, min_samples_split=15, min_samples_leaf=10, max_features=auto, max_depth=6 \n",
      "[CV]  n_estimators=400, min_samples_split=15, min_samples_leaf=10, max_features=auto, max_depth=6, total=   0.6s\n",
      "[CV] n_estimators=500, min_samples_split=2, min_samples_leaf=3, max_features=auto, max_depth=18 \n",
      "[CV]  n_estimators=500, min_samples_split=2, min_samples_leaf=3, max_features=auto, max_depth=18, total=   0.9s\n",
      "[CV] n_estimators=500, min_samples_split=2, min_samples_leaf=3, max_features=auto, max_depth=18 \n",
      "[CV]  n_estimators=500, min_samples_split=2, min_samples_leaf=3, max_features=auto, max_depth=18, total=   0.9s\n",
      "[CV] n_estimators=500, min_samples_split=2, min_samples_leaf=3, max_features=auto, max_depth=18 \n",
      "[CV]  n_estimators=500, min_samples_split=2, min_samples_leaf=3, max_features=auto, max_depth=18, total=   0.8s\n",
      "[CV] n_estimators=200, min_samples_split=15, min_samples_leaf=3, max_features=sqrt, max_depth=6 \n",
      "[CV]  n_estimators=200, min_samples_split=15, min_samples_leaf=3, max_features=sqrt, max_depth=6, total=   0.4s\n",
      "[CV] n_estimators=200, min_samples_split=15, min_samples_leaf=3, max_features=sqrt, max_depth=6 \n",
      "[CV]  n_estimators=200, min_samples_split=15, min_samples_leaf=3, max_features=sqrt, max_depth=6, total=   0.4s\n",
      "[CV] n_estimators=200, min_samples_split=15, min_samples_leaf=3, max_features=sqrt, max_depth=6 \n",
      "[CV]  n_estimators=200, min_samples_split=15, min_samples_leaf=3, max_features=sqrt, max_depth=6, total=   0.3s\n",
      "[CV] n_estimators=200, min_samples_split=15, min_samples_leaf=10, max_features=sqrt, max_depth=18 \n",
      "[CV]  n_estimators=200, min_samples_split=15, min_samples_leaf=10, max_features=sqrt, max_depth=18, total=   0.3s\n",
      "[CV] n_estimators=200, min_samples_split=15, min_samples_leaf=10, max_features=sqrt, max_depth=18 \n",
      "[CV]  n_estimators=200, min_samples_split=15, min_samples_leaf=10, max_features=sqrt, max_depth=18, total=   0.3s\n",
      "[CV] n_estimators=200, min_samples_split=15, min_samples_leaf=10, max_features=sqrt, max_depth=18 \n",
      "[CV]  n_estimators=200, min_samples_split=15, min_samples_leaf=10, max_features=sqrt, max_depth=18, total=   0.3s\n",
      "[CV] n_estimators=800, min_samples_split=10, min_samples_leaf=1, max_features=auto, max_depth=12 \n",
      "[CV]  n_estimators=800, min_samples_split=10, min_samples_leaf=1, max_features=auto, max_depth=12, total=   1.4s\n",
      "[CV] n_estimators=800, min_samples_split=10, min_samples_leaf=1, max_features=auto, max_depth=12 \n",
      "[CV]  n_estimators=800, min_samples_split=10, min_samples_leaf=1, max_features=auto, max_depth=12, total=   1.3s\n",
      "[CV] n_estimators=800, min_samples_split=10, min_samples_leaf=1, max_features=auto, max_depth=12 \n",
      "[CV]  n_estimators=800, min_samples_split=10, min_samples_leaf=1, max_features=auto, max_depth=12, total=   1.4s\n",
      "[CV] n_estimators=800, min_samples_split=5, min_samples_leaf=3, max_features=sqrt, max_depth=1 \n",
      "[CV]  n_estimators=800, min_samples_split=5, min_samples_leaf=3, max_features=sqrt, max_depth=1, total=   1.3s\n",
      "[CV] n_estimators=800, min_samples_split=5, min_samples_leaf=3, max_features=sqrt, max_depth=1 \n",
      "[CV]  n_estimators=800, min_samples_split=5, min_samples_leaf=3, max_features=sqrt, max_depth=1, total=   1.3s\n",
      "[CV] n_estimators=800, min_samples_split=5, min_samples_leaf=3, max_features=sqrt, max_depth=1 \n",
      "[CV]  n_estimators=800, min_samples_split=5, min_samples_leaf=3, max_features=sqrt, max_depth=1, total=   1.2s\n",
      "[CV] n_estimators=800, min_samples_split=100, min_samples_leaf=2, max_features=sqrt, max_depth=1 \n",
      "[CV]  n_estimators=800, min_samples_split=100, min_samples_leaf=2, max_features=sqrt, max_depth=1, total=   1.1s\n",
      "[CV] n_estimators=800, min_samples_split=100, min_samples_leaf=2, max_features=sqrt, max_depth=1 \n",
      "[CV]  n_estimators=800, min_samples_split=100, min_samples_leaf=2, max_features=sqrt, max_depth=1, total=   1.1s\n",
      "[CV] n_estimators=800, min_samples_split=100, min_samples_leaf=2, max_features=sqrt, max_depth=1 \n",
      "[CV]  n_estimators=800, min_samples_split=100, min_samples_leaf=2, max_features=sqrt, max_depth=1, total=   1.1s\n",
      "[CV] n_estimators=1100, min_samples_split=2, min_samples_leaf=2, max_features=auto, max_depth=6 \n",
      "[CV]  n_estimators=1100, min_samples_split=2, min_samples_leaf=2, max_features=auto, max_depth=6, total=   1.8s\n",
      "[CV] n_estimators=1100, min_samples_split=2, min_samples_leaf=2, max_features=auto, max_depth=6 \n",
      "[CV]  n_estimators=1100, min_samples_split=2, min_samples_leaf=2, max_features=auto, max_depth=6, total=   1.7s\n",
      "[CV] n_estimators=1100, min_samples_split=2, min_samples_leaf=2, max_features=auto, max_depth=6 \n",
      "[CV]  n_estimators=1100, min_samples_split=2, min_samples_leaf=2, max_features=auto, max_depth=6, total=   1.7s\n",
      "[CV] n_estimators=1200, min_samples_split=5, min_samples_leaf=3, max_features=sqrt, max_depth=24 \n",
      "[CV]  n_estimators=1200, min_samples_split=5, min_samples_leaf=3, max_features=sqrt, max_depth=24, total=   2.0s\n",
      "[CV] n_estimators=1200, min_samples_split=5, min_samples_leaf=3, max_features=sqrt, max_depth=24 \n",
      "[CV]  n_estimators=1200, min_samples_split=5, min_samples_leaf=3, max_features=sqrt, max_depth=24, total=   2.2s\n",
      "[CV] n_estimators=1200, min_samples_split=5, min_samples_leaf=3, max_features=sqrt, max_depth=24 \n",
      "[CV]  n_estimators=1200, min_samples_split=5, min_samples_leaf=3, max_features=sqrt, max_depth=24, total=   2.1s\n",
      "[CV] n_estimators=800, min_samples_split=5, min_samples_leaf=1, max_features=auto, max_depth=30 \n",
      "[CV]  n_estimators=800, min_samples_split=5, min_samples_leaf=1, max_features=auto, max_depth=30, total=   1.3s\n",
      "[CV] n_estimators=800, min_samples_split=5, min_samples_leaf=1, max_features=auto, max_depth=30 \n",
      "[CV]  n_estimators=800, min_samples_split=5, min_samples_leaf=1, max_features=auto, max_depth=30, total=   1.3s\n",
      "[CV] n_estimators=800, min_samples_split=5, min_samples_leaf=1, max_features=auto, max_depth=30 \n",
      "[CV]  n_estimators=800, min_samples_split=5, min_samples_leaf=1, max_features=auto, max_depth=30, total=   1.4s\n",
      "[CV] n_estimators=800, min_samples_split=10, min_samples_leaf=5, max_features=auto, max_depth=6 \n",
      "[CV]  n_estimators=800, min_samples_split=10, min_samples_leaf=5, max_features=auto, max_depth=6, total=   1.3s\n",
      "[CV] n_estimators=800, min_samples_split=10, min_samples_leaf=5, max_features=auto, max_depth=6 \n",
      "[CV]  n_estimators=800, min_samples_split=10, min_samples_leaf=5, max_features=auto, max_depth=6, total=   1.3s\n",
      "[CV] n_estimators=800, min_samples_split=10, min_samples_leaf=5, max_features=auto, max_depth=6 \n",
      "[CV]  n_estimators=800, min_samples_split=10, min_samples_leaf=5, max_features=auto, max_depth=6, total=   1.2s\n",
      "[CV] n_estimators=600, min_samples_split=5, min_samples_leaf=10, max_features=sqrt, max_depth=18 \n",
      "[CV]  n_estimators=600, min_samples_split=5, min_samples_leaf=10, max_features=sqrt, max_depth=18, total=   0.9s\n",
      "[CV] n_estimators=600, min_samples_split=5, min_samples_leaf=10, max_features=sqrt, max_depth=18 \n",
      "[CV]  n_estimators=600, min_samples_split=5, min_samples_leaf=10, max_features=sqrt, max_depth=18, total=   0.9s\n",
      "[CV] n_estimators=600, min_samples_split=5, min_samples_leaf=10, max_features=sqrt, max_depth=18 \n",
      "[CV]  n_estimators=600, min_samples_split=5, min_samples_leaf=10, max_features=sqrt, max_depth=18, total=   0.9s\n",
      "[CV] n_estimators=1200, min_samples_split=100, min_samples_leaf=3, max_features=auto, max_depth=1 \n",
      "[CV]  n_estimators=1200, min_samples_split=100, min_samples_leaf=3, max_features=auto, max_depth=1, total=   1.8s\n",
      "[CV] n_estimators=1200, min_samples_split=100, min_samples_leaf=3, max_features=auto, max_depth=1 \n",
      "[CV]  n_estimators=1200, min_samples_split=100, min_samples_leaf=3, max_features=auto, max_depth=1, total=   1.9s\n",
      "[CV] n_estimators=1200, min_samples_split=100, min_samples_leaf=3, max_features=auto, max_depth=1 \n",
      "[CV]  n_estimators=1200, min_samples_split=100, min_samples_leaf=3, max_features=auto, max_depth=1, total=   1.6s\n",
      "[CV] n_estimators=300, min_samples_split=2, min_samples_leaf=2, max_features=sqrt, max_depth=24 \n",
      "[CV]  n_estimators=300, min_samples_split=2, min_samples_leaf=2, max_features=sqrt, max_depth=24, total=   0.5s\n",
      "[CV] n_estimators=300, min_samples_split=2, min_samples_leaf=2, max_features=sqrt, max_depth=24 \n",
      "[CV]  n_estimators=300, min_samples_split=2, min_samples_leaf=2, max_features=sqrt, max_depth=24, total=   0.5s\n",
      "[CV] n_estimators=300, min_samples_split=2, min_samples_leaf=2, max_features=sqrt, max_depth=24 \n",
      "[CV]  n_estimators=300, min_samples_split=2, min_samples_leaf=2, max_features=sqrt, max_depth=24, total=   0.5s\n",
      "[CV] n_estimators=100, min_samples_split=100, min_samples_leaf=10, max_features=sqrt, max_depth=24 \n",
      "[CV]  n_estimators=100, min_samples_split=100, min_samples_leaf=10, max_features=sqrt, max_depth=24, total=   0.1s\n",
      "[CV] n_estimators=100, min_samples_split=100, min_samples_leaf=10, max_features=sqrt, max_depth=24 \n",
      "[CV]  n_estimators=100, min_samples_split=100, min_samples_leaf=10, max_features=sqrt, max_depth=24, total=   0.2s\n",
      "[CV] n_estimators=100, min_samples_split=100, min_samples_leaf=10, max_features=sqrt, max_depth=24 \n",
      "[CV]  n_estimators=100, min_samples_split=100, min_samples_leaf=10, max_features=sqrt, max_depth=24, total=   0.1s\n",
      "[CV] n_estimators=900, min_samples_split=100, min_samples_leaf=1, max_features=auto, max_depth=24 \n",
      "[CV]  n_estimators=900, min_samples_split=100, min_samples_leaf=1, max_features=auto, max_depth=24, total=   1.4s\n",
      "[CV] n_estimators=900, min_samples_split=100, min_samples_leaf=1, max_features=auto, max_depth=24 \n",
      "[CV]  n_estimators=900, min_samples_split=100, min_samples_leaf=1, max_features=auto, max_depth=24, total=   1.4s\n",
      "[CV] n_estimators=900, min_samples_split=100, min_samples_leaf=1, max_features=auto, max_depth=24 \n",
      "[CV]  n_estimators=900, min_samples_split=100, min_samples_leaf=1, max_features=auto, max_depth=24, total=   1.4s\n",
      "[CV] n_estimators=300, min_samples_split=10, min_samples_leaf=1, max_features=auto, max_depth=12 \n",
      "[CV]  n_estimators=300, min_samples_split=10, min_samples_leaf=1, max_features=auto, max_depth=12, total=   0.5s\n",
      "[CV] n_estimators=300, min_samples_split=10, min_samples_leaf=1, max_features=auto, max_depth=12 \n",
      "[CV]  n_estimators=300, min_samples_split=10, min_samples_leaf=1, max_features=auto, max_depth=12, total=   0.5s\n",
      "[CV] n_estimators=300, min_samples_split=10, min_samples_leaf=1, max_features=auto, max_depth=12 \n",
      "[CV]  n_estimators=300, min_samples_split=10, min_samples_leaf=1, max_features=auto, max_depth=12, total=   0.6s\n",
      "[CV] n_estimators=400, min_samples_split=15, min_samples_leaf=2, max_features=sqrt, max_depth=6 \n",
      "[CV]  n_estimators=400, min_samples_split=15, min_samples_leaf=2, max_features=sqrt, max_depth=6, total=   0.7s\n",
      "[CV] n_estimators=400, min_samples_split=15, min_samples_leaf=2, max_features=sqrt, max_depth=6 \n",
      "[CV]  n_estimators=400, min_samples_split=15, min_samples_leaf=2, max_features=sqrt, max_depth=6, total=   0.6s\n",
      "[CV] n_estimators=400, min_samples_split=15, min_samples_leaf=2, max_features=sqrt, max_depth=6 \n",
      "[CV]  n_estimators=400, min_samples_split=15, min_samples_leaf=2, max_features=sqrt, max_depth=6, total=   0.7s\n",
      "[CV] n_estimators=200, min_samples_split=15, min_samples_leaf=5, max_features=auto, max_depth=6 \n",
      "[CV]  n_estimators=200, min_samples_split=15, min_samples_leaf=5, max_features=auto, max_depth=6, total=   0.3s\n",
      "[CV] n_estimators=200, min_samples_split=15, min_samples_leaf=5, max_features=auto, max_depth=6 \n",
      "[CV]  n_estimators=200, min_samples_split=15, min_samples_leaf=5, max_features=auto, max_depth=6, total=   0.3s\n",
      "[CV] n_estimators=200, min_samples_split=15, min_samples_leaf=5, max_features=auto, max_depth=6 \n",
      "[CV]  n_estimators=200, min_samples_split=15, min_samples_leaf=5, max_features=auto, max_depth=6, total=   0.3s\n",
      "[CV] n_estimators=400, min_samples_split=10, min_samples_leaf=1, max_features=sqrt, max_depth=6 \n",
      "[CV]  n_estimators=400, min_samples_split=10, min_samples_leaf=1, max_features=sqrt, max_depth=6, total=   0.8s\n",
      "[CV] n_estimators=400, min_samples_split=10, min_samples_leaf=1, max_features=sqrt, max_depth=6 \n",
      "[CV]  n_estimators=400, min_samples_split=10, min_samples_leaf=1, max_features=sqrt, max_depth=6, total=   0.7s\n",
      "[CV] n_estimators=400, min_samples_split=10, min_samples_leaf=1, max_features=sqrt, max_depth=6 \n",
      "[CV]  n_estimators=400, min_samples_split=10, min_samples_leaf=1, max_features=sqrt, max_depth=6, total=   0.7s\n",
      "[CV] n_estimators=900, min_samples_split=100, min_samples_leaf=10, max_features=auto, max_depth=24 \n",
      "[CV]  n_estimators=900, min_samples_split=100, min_samples_leaf=10, max_features=auto, max_depth=24, total=   1.6s\n",
      "[CV] n_estimators=900, min_samples_split=100, min_samples_leaf=10, max_features=auto, max_depth=24 \n",
      "[CV]  n_estimators=900, min_samples_split=100, min_samples_leaf=10, max_features=auto, max_depth=24, total=   1.4s\n",
      "[CV] n_estimators=900, min_samples_split=100, min_samples_leaf=10, max_features=auto, max_depth=24 \n",
      "[CV]  n_estimators=900, min_samples_split=100, min_samples_leaf=10, max_features=auto, max_depth=24, total=   1.5s\n",
      "[CV] n_estimators=1000, min_samples_split=10, min_samples_leaf=1, max_features=auto, max_depth=30 \n",
      "[CV]  n_estimators=1000, min_samples_split=10, min_samples_leaf=1, max_features=auto, max_depth=30, total=   1.7s\n",
      "[CV] n_estimators=1000, min_samples_split=10, min_samples_leaf=1, max_features=auto, max_depth=30 \n",
      "[CV]  n_estimators=1000, min_samples_split=10, min_samples_leaf=1, max_features=auto, max_depth=30, total=   1.7s\n",
      "[CV] n_estimators=1000, min_samples_split=10, min_samples_leaf=1, max_features=auto, max_depth=30 \n",
      "[CV]  n_estimators=1000, min_samples_split=10, min_samples_leaf=1, max_features=auto, max_depth=30, total=   1.6s\n",
      "[CV] n_estimators=400, min_samples_split=5, min_samples_leaf=10, max_features=sqrt, max_depth=24 \n",
      "[CV]  n_estimators=400, min_samples_split=5, min_samples_leaf=10, max_features=sqrt, max_depth=24, total=   0.6s\n",
      "[CV] n_estimators=400, min_samples_split=5, min_samples_leaf=10, max_features=sqrt, max_depth=24 \n",
      "[CV]  n_estimators=400, min_samples_split=5, min_samples_leaf=10, max_features=sqrt, max_depth=24, total=   0.6s\n",
      "[CV] n_estimators=400, min_samples_split=5, min_samples_leaf=10, max_features=sqrt, max_depth=24 \n",
      "[CV]  n_estimators=400, min_samples_split=5, min_samples_leaf=10, max_features=sqrt, max_depth=24, total=   0.6s\n",
      "[CV] n_estimators=100, min_samples_split=2, min_samples_leaf=3, max_features=auto, max_depth=1 \n",
      "[CV]  n_estimators=100, min_samples_split=2, min_samples_leaf=3, max_features=auto, max_depth=1, total=   0.1s\n",
      "[CV] n_estimators=100, min_samples_split=2, min_samples_leaf=3, max_features=auto, max_depth=1 \n",
      "[CV]  n_estimators=100, min_samples_split=2, min_samples_leaf=3, max_features=auto, max_depth=1, total=   0.1s\n",
      "[CV] n_estimators=100, min_samples_split=2, min_samples_leaf=3, max_features=auto, max_depth=1 \n",
      "[CV]  n_estimators=100, min_samples_split=2, min_samples_leaf=3, max_features=auto, max_depth=1, total=   0.1s\n",
      "[CV] n_estimators=1100, min_samples_split=15, min_samples_leaf=10, max_features=sqrt, max_depth=12 \n",
      "[CV]  n_estimators=1100, min_samples_split=15, min_samples_leaf=10, max_features=sqrt, max_depth=12, total=   1.6s\n",
      "[CV] n_estimators=1100, min_samples_split=15, min_samples_leaf=10, max_features=sqrt, max_depth=12 \n",
      "[CV]  n_estimators=1100, min_samples_split=15, min_samples_leaf=10, max_features=sqrt, max_depth=12, total=   1.6s\n",
      "[CV] n_estimators=1100, min_samples_split=15, min_samples_leaf=10, max_features=sqrt, max_depth=12 \n",
      "[CV]  n_estimators=1100, min_samples_split=15, min_samples_leaf=10, max_features=sqrt, max_depth=12, total=   1.6s\n",
      "[CV] n_estimators=1200, min_samples_split=5, min_samples_leaf=5, max_features=auto, max_depth=12 \n",
      "[CV]  n_estimators=1200, min_samples_split=5, min_samples_leaf=5, max_features=auto, max_depth=12, total=   2.1s\n",
      "[CV] n_estimators=1200, min_samples_split=5, min_samples_leaf=5, max_features=auto, max_depth=12 \n",
      "[CV]  n_estimators=1200, min_samples_split=5, min_samples_leaf=5, max_features=auto, max_depth=12, total=   1.8s\n",
      "[CV] n_estimators=1200, min_samples_split=5, min_samples_leaf=5, max_features=auto, max_depth=12 \n",
      "[CV]  n_estimators=1200, min_samples_split=5, min_samples_leaf=5, max_features=auto, max_depth=12, total=   1.8s\n",
      "[CV] n_estimators=400, min_samples_split=10, min_samples_leaf=2, max_features=sqrt, max_depth=1 \n",
      "[CV]  n_estimators=400, min_samples_split=10, min_samples_leaf=2, max_features=sqrt, max_depth=1, total=   0.5s\n",
      "[CV] n_estimators=400, min_samples_split=10, min_samples_leaf=2, max_features=sqrt, max_depth=1 \n",
      "[CV]  n_estimators=400, min_samples_split=10, min_samples_leaf=2, max_features=sqrt, max_depth=1, total=   0.5s\n",
      "[CV] n_estimators=400, min_samples_split=10, min_samples_leaf=2, max_features=sqrt, max_depth=1 \n",
      "[CV]  n_estimators=400, min_samples_split=10, min_samples_leaf=2, max_features=sqrt, max_depth=1, total=   0.5s\n",
      "[CV] n_estimators=1100, min_samples_split=2, min_samples_leaf=1, max_features=sqrt, max_depth=12 \n",
      "[CV]  n_estimators=1100, min_samples_split=2, min_samples_leaf=1, max_features=sqrt, max_depth=12, total=   1.8s\n",
      "[CV] n_estimators=1100, min_samples_split=2, min_samples_leaf=1, max_features=sqrt, max_depth=12 \n",
      "[CV]  n_estimators=1100, min_samples_split=2, min_samples_leaf=1, max_features=sqrt, max_depth=12, total=   1.8s\n",
      "[CV] n_estimators=1100, min_samples_split=2, min_samples_leaf=1, max_features=sqrt, max_depth=12 \n",
      "[CV]  n_estimators=1100, min_samples_split=2, min_samples_leaf=1, max_features=sqrt, max_depth=12, total=   1.8s\n",
      "[CV] n_estimators=500, min_samples_split=2, min_samples_leaf=1, max_features=sqrt, max_depth=18 \n",
      "[CV]  n_estimators=500, min_samples_split=2, min_samples_leaf=1, max_features=sqrt, max_depth=18, total=   0.8s\n",
      "[CV] n_estimators=500, min_samples_split=2, min_samples_leaf=1, max_features=sqrt, max_depth=18 \n",
      "[CV]  n_estimators=500, min_samples_split=2, min_samples_leaf=1, max_features=sqrt, max_depth=18, total=   0.8s\n",
      "[CV] n_estimators=500, min_samples_split=2, min_samples_leaf=1, max_features=sqrt, max_depth=18 \n",
      "[CV]  n_estimators=500, min_samples_split=2, min_samples_leaf=1, max_features=sqrt, max_depth=18, total=   0.8s\n",
      "[CV] n_estimators=1100, min_samples_split=5, min_samples_leaf=10, max_features=sqrt, max_depth=24 \n",
      "[CV]  n_estimators=1100, min_samples_split=5, min_samples_leaf=10, max_features=sqrt, max_depth=24, total=   1.8s\n",
      "[CV] n_estimators=1100, min_samples_split=5, min_samples_leaf=10, max_features=sqrt, max_depth=24 \n",
      "[CV]  n_estimators=1100, min_samples_split=5, min_samples_leaf=10, max_features=sqrt, max_depth=24, total=   1.6s\n",
      "[CV] n_estimators=1100, min_samples_split=5, min_samples_leaf=10, max_features=sqrt, max_depth=24 \n",
      "[CV]  n_estimators=1100, min_samples_split=5, min_samples_leaf=10, max_features=sqrt, max_depth=24, total=   1.6s\n",
      "[CV] n_estimators=200, min_samples_split=15, min_samples_leaf=3, max_features=auto, max_depth=18 \n",
      "[CV]  n_estimators=200, min_samples_split=15, min_samples_leaf=3, max_features=auto, max_depth=18, total=   0.3s\n",
      "[CV] n_estimators=200, min_samples_split=15, min_samples_leaf=3, max_features=auto, max_depth=18 \n",
      "[CV]  n_estimators=200, min_samples_split=15, min_samples_leaf=3, max_features=auto, max_depth=18, total=   0.3s\n",
      "[CV] n_estimators=200, min_samples_split=15, min_samples_leaf=3, max_features=auto, max_depth=18 \n",
      "[CV]  n_estimators=200, min_samples_split=15, min_samples_leaf=3, max_features=auto, max_depth=18, total=   0.3s\n",
      "[CV] n_estimators=300, min_samples_split=2, min_samples_leaf=10, max_features=auto, max_depth=6 \n",
      "[CV]  n_estimators=300, min_samples_split=2, min_samples_leaf=10, max_features=auto, max_depth=6, total=   0.5s\n",
      "[CV] n_estimators=300, min_samples_split=2, min_samples_leaf=10, max_features=auto, max_depth=6 \n",
      "[CV]  n_estimators=300, min_samples_split=2, min_samples_leaf=10, max_features=auto, max_depth=6, total=   0.5s\n",
      "[CV] n_estimators=300, min_samples_split=2, min_samples_leaf=10, max_features=auto, max_depth=6 \n",
      "[CV]  n_estimators=300, min_samples_split=2, min_samples_leaf=10, max_features=auto, max_depth=6, total=   0.5s\n",
      "[CV] n_estimators=500, min_samples_split=2, min_samples_leaf=5, max_features=auto, max_depth=1 \n",
      "[CV]  n_estimators=500, min_samples_split=2, min_samples_leaf=5, max_features=auto, max_depth=1, total=   0.8s\n",
      "[CV] n_estimators=500, min_samples_split=2, min_samples_leaf=5, max_features=auto, max_depth=1 \n",
      "[CV]  n_estimators=500, min_samples_split=2, min_samples_leaf=5, max_features=auto, max_depth=1, total=   0.8s\n",
      "[CV] n_estimators=500, min_samples_split=2, min_samples_leaf=5, max_features=auto, max_depth=1 \n",
      "[CV]  n_estimators=500, min_samples_split=2, min_samples_leaf=5, max_features=auto, max_depth=1, total=   0.8s\n",
      "[CV] n_estimators=400, min_samples_split=5, min_samples_leaf=5, max_features=sqrt, max_depth=1 \n",
      "[CV]  n_estimators=400, min_samples_split=5, min_samples_leaf=5, max_features=sqrt, max_depth=1, total=   0.6s\n",
      "[CV] n_estimators=400, min_samples_split=5, min_samples_leaf=5, max_features=sqrt, max_depth=1 \n",
      "[CV]  n_estimators=400, min_samples_split=5, min_samples_leaf=5, max_features=sqrt, max_depth=1, total=   0.6s\n",
      "[CV] n_estimators=400, min_samples_split=5, min_samples_leaf=5, max_features=sqrt, max_depth=1 \n",
      "[CV]  n_estimators=400, min_samples_split=5, min_samples_leaf=5, max_features=sqrt, max_depth=1, total=   0.7s\n",
      "[CV] n_estimators=400, min_samples_split=100, min_samples_leaf=2, max_features=sqrt, max_depth=18 \n",
      "[CV]  n_estimators=400, min_samples_split=100, min_samples_leaf=2, max_features=sqrt, max_depth=18, total=   0.8s\n",
      "[CV] n_estimators=400, min_samples_split=100, min_samples_leaf=2, max_features=sqrt, max_depth=18 \n",
      "[CV]  n_estimators=400, min_samples_split=100, min_samples_leaf=2, max_features=sqrt, max_depth=18, total=   0.6s\n",
      "[CV] n_estimators=400, min_samples_split=100, min_samples_leaf=2, max_features=sqrt, max_depth=18 \n",
      "[CV]  n_estimators=400, min_samples_split=100, min_samples_leaf=2, max_features=sqrt, max_depth=18, total=   0.6s\n",
      "[CV] n_estimators=1000, min_samples_split=5, min_samples_leaf=5, max_features=auto, max_depth=30 \n",
      "[CV]  n_estimators=1000, min_samples_split=5, min_samples_leaf=5, max_features=auto, max_depth=30, total=   1.7s\n",
      "[CV] n_estimators=1000, min_samples_split=5, min_samples_leaf=5, max_features=auto, max_depth=30 \n",
      "[CV]  n_estimators=1000, min_samples_split=5, min_samples_leaf=5, max_features=auto, max_depth=30, total=   1.6s\n",
      "[CV] n_estimators=1000, min_samples_split=5, min_samples_leaf=5, max_features=auto, max_depth=30 \n",
      "[CV]  n_estimators=1000, min_samples_split=5, min_samples_leaf=5, max_features=auto, max_depth=30, total=   1.6s\n",
      "[CV] n_estimators=300, min_samples_split=10, min_samples_leaf=1, max_features=sqrt, max_depth=6 \n",
      "[CV]  n_estimators=300, min_samples_split=10, min_samples_leaf=1, max_features=sqrt, max_depth=6, total=   0.4s\n",
      "[CV] n_estimators=300, min_samples_split=10, min_samples_leaf=1, max_features=sqrt, max_depth=6 \n",
      "[CV]  n_estimators=300, min_samples_split=10, min_samples_leaf=1, max_features=sqrt, max_depth=6, total=   0.5s\n",
      "[CV] n_estimators=300, min_samples_split=10, min_samples_leaf=1, max_features=sqrt, max_depth=6 \n",
      "[CV]  n_estimators=300, min_samples_split=10, min_samples_leaf=1, max_features=sqrt, max_depth=6, total=   0.5s\n",
      "[CV] n_estimators=600, min_samples_split=15, min_samples_leaf=3, max_features=sqrt, max_depth=1 \n",
      "[CV]  n_estimators=600, min_samples_split=15, min_samples_leaf=3, max_features=sqrt, max_depth=1, total=   1.0s\n",
      "[CV] n_estimators=600, min_samples_split=15, min_samples_leaf=3, max_features=sqrt, max_depth=1 \n",
      "[CV]  n_estimators=600, min_samples_split=15, min_samples_leaf=3, max_features=sqrt, max_depth=1, total=   0.9s\n",
      "[CV] n_estimators=600, min_samples_split=15, min_samples_leaf=3, max_features=sqrt, max_depth=1 \n",
      "[CV]  n_estimators=600, min_samples_split=15, min_samples_leaf=3, max_features=sqrt, max_depth=1, total=   0.9s\n",
      "[CV] n_estimators=1000, min_samples_split=10, min_samples_leaf=1, max_features=auto, max_depth=1 \n",
      "[CV]  n_estimators=1000, min_samples_split=10, min_samples_leaf=1, max_features=auto, max_depth=1, total=   1.5s\n",
      "[CV] n_estimators=1000, min_samples_split=10, min_samples_leaf=1, max_features=auto, max_depth=1 \n",
      "[CV]  n_estimators=1000, min_samples_split=10, min_samples_leaf=1, max_features=auto, max_depth=1, total=   1.4s\n",
      "[CV] n_estimators=1000, min_samples_split=10, min_samples_leaf=1, max_features=auto, max_depth=1 \n",
      "[CV]  n_estimators=1000, min_samples_split=10, min_samples_leaf=1, max_features=auto, max_depth=1, total=   1.4s\n",
      "[CV] n_estimators=600, min_samples_split=100, min_samples_leaf=10, max_features=sqrt, max_depth=12 \n",
      "[CV]  n_estimators=600, min_samples_split=100, min_samples_leaf=10, max_features=sqrt, max_depth=12, total=   0.9s\n",
      "[CV] n_estimators=600, min_samples_split=100, min_samples_leaf=10, max_features=sqrt, max_depth=12 \n",
      "[CV]  n_estimators=600, min_samples_split=100, min_samples_leaf=10, max_features=sqrt, max_depth=12, total=   0.9s\n",
      "[CV] n_estimators=600, min_samples_split=100, min_samples_leaf=10, max_features=sqrt, max_depth=12 \n",
      "[CV]  n_estimators=600, min_samples_split=100, min_samples_leaf=10, max_features=sqrt, max_depth=12, total=   0.9s\n",
      "[CV] n_estimators=200, min_samples_split=100, min_samples_leaf=10, max_features=auto, max_depth=1 \n",
      "[CV]  n_estimators=200, min_samples_split=100, min_samples_leaf=10, max_features=auto, max_depth=1, total=   0.3s\n",
      "[CV] n_estimators=200, min_samples_split=100, min_samples_leaf=10, max_features=auto, max_depth=1 \n",
      "[CV]  n_estimators=200, min_samples_split=100, min_samples_leaf=10, max_features=auto, max_depth=1, total=   0.3s\n",
      "[CV] n_estimators=200, min_samples_split=100, min_samples_leaf=10, max_features=auto, max_depth=1 \n",
      "[CV]  n_estimators=200, min_samples_split=100, min_samples_leaf=10, max_features=auto, max_depth=1, total=   0.3s\n",
      "[CV] n_estimators=1000, min_samples_split=2, min_samples_leaf=5, max_features=auto, max_depth=24 \n",
      "[CV]  n_estimators=1000, min_samples_split=2, min_samples_leaf=5, max_features=auto, max_depth=24, total=   1.6s\n",
      "[CV] n_estimators=1000, min_samples_split=2, min_samples_leaf=5, max_features=auto, max_depth=24 \n",
      "[CV]  n_estimators=1000, min_samples_split=2, min_samples_leaf=5, max_features=auto, max_depth=24, total=   1.8s\n",
      "[CV] n_estimators=1000, min_samples_split=2, min_samples_leaf=5, max_features=auto, max_depth=24 \n",
      "[CV]  n_estimators=1000, min_samples_split=2, min_samples_leaf=5, max_features=auto, max_depth=24, total=   1.6s\n",
      "[CV] n_estimators=400, min_samples_split=15, min_samples_leaf=1, max_features=sqrt, max_depth=12 \n",
      "[CV]  n_estimators=400, min_samples_split=15, min_samples_leaf=1, max_features=sqrt, max_depth=12, total=   0.7s\n",
      "[CV] n_estimators=400, min_samples_split=15, min_samples_leaf=1, max_features=sqrt, max_depth=12 \n",
      "[CV]  n_estimators=400, min_samples_split=15, min_samples_leaf=1, max_features=sqrt, max_depth=12, total=   0.7s\n",
      "[CV] n_estimators=400, min_samples_split=15, min_samples_leaf=1, max_features=sqrt, max_depth=12 \n",
      "[CV]  n_estimators=400, min_samples_split=15, min_samples_leaf=1, max_features=sqrt, max_depth=12, total=   0.6s\n",
      "[CV] n_estimators=900, min_samples_split=15, min_samples_leaf=1, max_features=auto, max_depth=6 \n",
      "[CV]  n_estimators=900, min_samples_split=15, min_samples_leaf=1, max_features=auto, max_depth=6, total=   1.4s\n",
      "[CV] n_estimators=900, min_samples_split=15, min_samples_leaf=1, max_features=auto, max_depth=6 \n",
      "[CV]  n_estimators=900, min_samples_split=15, min_samples_leaf=1, max_features=auto, max_depth=6, total=   1.3s\n",
      "[CV] n_estimators=900, min_samples_split=15, min_samples_leaf=1, max_features=auto, max_depth=6 \n",
      "[CV]  n_estimators=900, min_samples_split=15, min_samples_leaf=1, max_features=auto, max_depth=6, total=   1.3s\n",
      "[CV] n_estimators=1000, min_samples_split=10, min_samples_leaf=2, max_features=auto, max_depth=1 \n",
      "[CV]  n_estimators=1000, min_samples_split=10, min_samples_leaf=2, max_features=auto, max_depth=1, total=   1.3s\n",
      "[CV] n_estimators=1000, min_samples_split=10, min_samples_leaf=2, max_features=auto, max_depth=1 \n",
      "[CV]  n_estimators=1000, min_samples_split=10, min_samples_leaf=2, max_features=auto, max_depth=1, total=   1.4s\n",
      "[CV] n_estimators=1000, min_samples_split=10, min_samples_leaf=2, max_features=auto, max_depth=1 \n",
      "[CV]  n_estimators=1000, min_samples_split=10, min_samples_leaf=2, max_features=auto, max_depth=1, total=   1.3s\n",
      "[CV] n_estimators=1000, min_samples_split=2, min_samples_leaf=2, max_features=sqrt, max_depth=6 \n",
      "[CV]  n_estimators=1000, min_samples_split=2, min_samples_leaf=2, max_features=sqrt, max_depth=6, total=   1.5s\n",
      "[CV] n_estimators=1000, min_samples_split=2, min_samples_leaf=2, max_features=sqrt, max_depth=6 \n",
      "[CV]  n_estimators=1000, min_samples_split=2, min_samples_leaf=2, max_features=sqrt, max_depth=6, total=   1.5s\n",
      "[CV] n_estimators=1000, min_samples_split=2, min_samples_leaf=2, max_features=sqrt, max_depth=6 \n",
      "[CV]  n_estimators=1000, min_samples_split=2, min_samples_leaf=2, max_features=sqrt, max_depth=6, total=   1.7s\n",
      "[CV] n_estimators=700, min_samples_split=100, min_samples_leaf=1, max_features=sqrt, max_depth=12 \n",
      "[CV]  n_estimators=700, min_samples_split=100, min_samples_leaf=1, max_features=sqrt, max_depth=12, total=   1.0s\n",
      "[CV] n_estimators=700, min_samples_split=100, min_samples_leaf=1, max_features=sqrt, max_depth=12 \n",
      "[CV]  n_estimators=700, min_samples_split=100, min_samples_leaf=1, max_features=sqrt, max_depth=12, total=   1.1s\n",
      "[CV] n_estimators=700, min_samples_split=100, min_samples_leaf=1, max_features=sqrt, max_depth=12 \n",
      "[CV]  n_estimators=700, min_samples_split=100, min_samples_leaf=1, max_features=sqrt, max_depth=12, total=   1.1s\n",
      "[CV] n_estimators=1100, min_samples_split=10, min_samples_leaf=10, max_features=sqrt, max_depth=6 \n",
      "[CV]  n_estimators=1100, min_samples_split=10, min_samples_leaf=10, max_features=sqrt, max_depth=6, total=   1.7s\n",
      "[CV] n_estimators=1100, min_samples_split=10, min_samples_leaf=10, max_features=sqrt, max_depth=6 \n",
      "[CV]  n_estimators=1100, min_samples_split=10, min_samples_leaf=10, max_features=sqrt, max_depth=6, total=   1.7s\n",
      "[CV] n_estimators=1100, min_samples_split=10, min_samples_leaf=10, max_features=sqrt, max_depth=6 \n",
      "[CV]  n_estimators=1100, min_samples_split=10, min_samples_leaf=10, max_features=sqrt, max_depth=6, total=   1.6s\n",
      "[CV] n_estimators=800, min_samples_split=100, min_samples_leaf=3, max_features=auto, max_depth=24 \n",
      "[CV]  n_estimators=800, min_samples_split=100, min_samples_leaf=3, max_features=auto, max_depth=24, total=   1.2s\n",
      "[CV] n_estimators=800, min_samples_split=100, min_samples_leaf=3, max_features=auto, max_depth=24 \n",
      "[CV]  n_estimators=800, min_samples_split=100, min_samples_leaf=3, max_features=auto, max_depth=24, total=   1.2s\n",
      "[CV] n_estimators=800, min_samples_split=100, min_samples_leaf=3, max_features=auto, max_depth=24 \n",
      "[CV]  n_estimators=800, min_samples_split=100, min_samples_leaf=3, max_features=auto, max_depth=24, total=   1.2s\n",
      "[CV] n_estimators=1000, min_samples_split=10, min_samples_leaf=3, max_features=auto, max_depth=30 \n",
      "[CV]  n_estimators=1000, min_samples_split=10, min_samples_leaf=3, max_features=auto, max_depth=30, total=   1.5s\n",
      "[CV] n_estimators=1000, min_samples_split=10, min_samples_leaf=3, max_features=auto, max_depth=30 \n",
      "[CV]  n_estimators=1000, min_samples_split=10, min_samples_leaf=3, max_features=auto, max_depth=30, total=   1.8s\n",
      "[CV] n_estimators=1000, min_samples_split=10, min_samples_leaf=3, max_features=auto, max_depth=30 \n",
      "[CV]  n_estimators=1000, min_samples_split=10, min_samples_leaf=3, max_features=auto, max_depth=30, total=   1.5s\n",
      "[CV] n_estimators=1200, min_samples_split=5, min_samples_leaf=5, max_features=auto, max_depth=6 \n",
      "[CV]  n_estimators=1200, min_samples_split=5, min_samples_leaf=5, max_features=auto, max_depth=6, total=   1.8s\n",
      "[CV] n_estimators=1200, min_samples_split=5, min_samples_leaf=5, max_features=auto, max_depth=6 \n",
      "[CV]  n_estimators=1200, min_samples_split=5, min_samples_leaf=5, max_features=auto, max_depth=6, total=   1.8s\n",
      "[CV] n_estimators=1200, min_samples_split=5, min_samples_leaf=5, max_features=auto, max_depth=6 \n",
      "[CV]  n_estimators=1200, min_samples_split=5, min_samples_leaf=5, max_features=auto, max_depth=6, total=   1.7s\n",
      "[CV] n_estimators=1100, min_samples_split=10, min_samples_leaf=10, max_features=auto, max_depth=12 \n",
      "[CV]  n_estimators=1100, min_samples_split=10, min_samples_leaf=10, max_features=auto, max_depth=12, total=   1.6s\n",
      "[CV] n_estimators=1100, min_samples_split=10, min_samples_leaf=10, max_features=auto, max_depth=12 \n",
      "[CV]  n_estimators=1100, min_samples_split=10, min_samples_leaf=10, max_features=auto, max_depth=12, total=   1.6s\n",
      "[CV] n_estimators=1100, min_samples_split=10, min_samples_leaf=10, max_features=auto, max_depth=12 \n",
      "[CV]  n_estimators=1100, min_samples_split=10, min_samples_leaf=10, max_features=auto, max_depth=12, total=   1.7s\n",
      "[CV] n_estimators=300, min_samples_split=2, min_samples_leaf=1, max_features=auto, max_depth=6 \n",
      "[CV]  n_estimators=300, min_samples_split=2, min_samples_leaf=1, max_features=auto, max_depth=6, total=   0.5s\n",
      "[CV] n_estimators=300, min_samples_split=2, min_samples_leaf=1, max_features=auto, max_depth=6 \n",
      "[CV]  n_estimators=300, min_samples_split=2, min_samples_leaf=1, max_features=auto, max_depth=6, total=   0.5s\n",
      "[CV] n_estimators=300, min_samples_split=2, min_samples_leaf=1, max_features=auto, max_depth=6 \n",
      "[CV]  n_estimators=300, min_samples_split=2, min_samples_leaf=1, max_features=auto, max_depth=6, total=   0.4s\n",
      "[CV] n_estimators=900, min_samples_split=15, min_samples_leaf=3, max_features=auto, max_depth=18 \n",
      "[CV]  n_estimators=900, min_samples_split=15, min_samples_leaf=3, max_features=auto, max_depth=18, total=   1.4s\n",
      "[CV] n_estimators=900, min_samples_split=15, min_samples_leaf=3, max_features=auto, max_depth=18 \n",
      "[CV]  n_estimators=900, min_samples_split=15, min_samples_leaf=3, max_features=auto, max_depth=18, total=   1.6s\n",
      "[CV] n_estimators=900, min_samples_split=15, min_samples_leaf=3, max_features=auto, max_depth=18 \n",
      "[CV]  n_estimators=900, min_samples_split=15, min_samples_leaf=3, max_features=auto, max_depth=18, total=   1.4s\n",
      "[CV] n_estimators=500, min_samples_split=10, min_samples_leaf=1, max_features=sqrt, max_depth=24 \n",
      "[CV]  n_estimators=500, min_samples_split=10, min_samples_leaf=1, max_features=sqrt, max_depth=24, total=   0.8s\n",
      "[CV] n_estimators=500, min_samples_split=10, min_samples_leaf=1, max_features=sqrt, max_depth=24 \n",
      "[CV]  n_estimators=500, min_samples_split=10, min_samples_leaf=1, max_features=sqrt, max_depth=24, total=   0.8s\n",
      "[CV] n_estimators=500, min_samples_split=10, min_samples_leaf=1, max_features=sqrt, max_depth=24 \n",
      "[CV]  n_estimators=500, min_samples_split=10, min_samples_leaf=1, max_features=sqrt, max_depth=24, total=   0.8s\n",
      "[CV] n_estimators=500, min_samples_split=5, min_samples_leaf=3, max_features=auto, max_depth=12 \n",
      "[CV]  n_estimators=500, min_samples_split=5, min_samples_leaf=3, max_features=auto, max_depth=12, total=   0.8s\n",
      "[CV] n_estimators=500, min_samples_split=5, min_samples_leaf=3, max_features=auto, max_depth=12 \n",
      "[CV]  n_estimators=500, min_samples_split=5, min_samples_leaf=3, max_features=auto, max_depth=12, total=   0.8s\n",
      "[CV] n_estimators=500, min_samples_split=5, min_samples_leaf=3, max_features=auto, max_depth=12 \n",
      "[CV]  n_estimators=500, min_samples_split=5, min_samples_leaf=3, max_features=auto, max_depth=12, total=   0.8s\n",
      "[CV] n_estimators=100, min_samples_split=100, min_samples_leaf=1, max_features=sqrt, max_depth=6 \n",
      "[CV]  n_estimators=100, min_samples_split=100, min_samples_leaf=1, max_features=sqrt, max_depth=6, total=   0.2s\n",
      "[CV] n_estimators=100, min_samples_split=100, min_samples_leaf=1, max_features=sqrt, max_depth=6 \n",
      "[CV]  n_estimators=100, min_samples_split=100, min_samples_leaf=1, max_features=sqrt, max_depth=6, total=   0.2s\n",
      "[CV] n_estimators=100, min_samples_split=100, min_samples_leaf=1, max_features=sqrt, max_depth=6 \n",
      "[CV]  n_estimators=100, min_samples_split=100, min_samples_leaf=1, max_features=sqrt, max_depth=6, total=   0.2s\n",
      "[CV] n_estimators=900, min_samples_split=100, min_samples_leaf=3, max_features=auto, max_depth=30 \n",
      "[CV]  n_estimators=900, min_samples_split=100, min_samples_leaf=3, max_features=auto, max_depth=30, total=   1.3s\n",
      "[CV] n_estimators=900, min_samples_split=100, min_samples_leaf=3, max_features=auto, max_depth=30 \n",
      "[CV]  n_estimators=900, min_samples_split=100, min_samples_leaf=3, max_features=auto, max_depth=30, total=   1.4s\n",
      "[CV] n_estimators=900, min_samples_split=100, min_samples_leaf=3, max_features=auto, max_depth=30 \n",
      "[CV]  n_estimators=900, min_samples_split=100, min_samples_leaf=3, max_features=auto, max_depth=30, total=   1.4s\n",
      "[CV] n_estimators=1100, min_samples_split=5, min_samples_leaf=5, max_features=auto, max_depth=6 \n",
      "[CV]  n_estimators=1100, min_samples_split=5, min_samples_leaf=5, max_features=auto, max_depth=6, total=   1.7s\n",
      "[CV] n_estimators=1100, min_samples_split=5, min_samples_leaf=5, max_features=auto, max_depth=6 \n",
      "[CV]  n_estimators=1100, min_samples_split=5, min_samples_leaf=5, max_features=auto, max_depth=6, total=   1.7s\n",
      "[CV] n_estimators=1100, min_samples_split=5, min_samples_leaf=5, max_features=auto, max_depth=6 \n",
      "[CV]  n_estimators=1100, min_samples_split=5, min_samples_leaf=5, max_features=auto, max_depth=6, total=   2.0s\n",
      "[CV] n_estimators=200, min_samples_split=10, min_samples_leaf=10, max_features=sqrt, max_depth=12 \n",
      "[CV]  n_estimators=200, min_samples_split=10, min_samples_leaf=10, max_features=sqrt, max_depth=12, total=   0.3s\n",
      "[CV] n_estimators=200, min_samples_split=10, min_samples_leaf=10, max_features=sqrt, max_depth=12 \n",
      "[CV]  n_estimators=200, min_samples_split=10, min_samples_leaf=10, max_features=sqrt, max_depth=12, total=   0.3s\n",
      "[CV] n_estimators=200, min_samples_split=10, min_samples_leaf=10, max_features=sqrt, max_depth=12 \n",
      "[CV]  n_estimators=200, min_samples_split=10, min_samples_leaf=10, max_features=sqrt, max_depth=12, total=   0.3s\n",
      "[CV] n_estimators=1100, min_samples_split=2, min_samples_leaf=2, max_features=auto, max_depth=1 \n",
      "[CV]  n_estimators=1100, min_samples_split=2, min_samples_leaf=2, max_features=auto, max_depth=1, total=   1.5s\n",
      "[CV] n_estimators=1100, min_samples_split=2, min_samples_leaf=2, max_features=auto, max_depth=1 \n",
      "[CV]  n_estimators=1100, min_samples_split=2, min_samples_leaf=2, max_features=auto, max_depth=1, total=   1.5s\n",
      "[CV] n_estimators=1100, min_samples_split=2, min_samples_leaf=2, max_features=auto, max_depth=1 \n",
      "[CV]  n_estimators=1100, min_samples_split=2, min_samples_leaf=2, max_features=auto, max_depth=1, total=   1.6s\n",
      "[CV] n_estimators=1200, min_samples_split=5, min_samples_leaf=3, max_features=sqrt, max_depth=1 \n",
      "[CV]  n_estimators=1200, min_samples_split=5, min_samples_leaf=3, max_features=sqrt, max_depth=1, total=   1.7s\n",
      "[CV] n_estimators=1200, min_samples_split=5, min_samples_leaf=3, max_features=sqrt, max_depth=1 \n",
      "[CV]  n_estimators=1200, min_samples_split=5, min_samples_leaf=3, max_features=sqrt, max_depth=1, total=   1.7s\n",
      "[CV] n_estimators=1200, min_samples_split=5, min_samples_leaf=3, max_features=sqrt, max_depth=1 \n",
      "[CV]  n_estimators=1200, min_samples_split=5, min_samples_leaf=3, max_features=sqrt, max_depth=1, total=   1.7s\n",
      "[CV] n_estimators=200, min_samples_split=100, min_samples_leaf=5, max_features=sqrt, max_depth=18 \n",
      "[CV]  n_estimators=200, min_samples_split=100, min_samples_leaf=5, max_features=sqrt, max_depth=18, total=   0.3s\n",
      "[CV] n_estimators=200, min_samples_split=100, min_samples_leaf=5, max_features=sqrt, max_depth=18 \n",
      "[CV]  n_estimators=200, min_samples_split=100, min_samples_leaf=5, max_features=sqrt, max_depth=18, total=   0.3s\n",
      "[CV] n_estimators=200, min_samples_split=100, min_samples_leaf=5, max_features=sqrt, max_depth=18 \n",
      "[CV]  n_estimators=200, min_samples_split=100, min_samples_leaf=5, max_features=sqrt, max_depth=18, total=   0.3s\n",
      "[CV] n_estimators=600, min_samples_split=100, min_samples_leaf=1, max_features=auto, max_depth=24 \n",
      "[CV]  n_estimators=600, min_samples_split=100, min_samples_leaf=1, max_features=auto, max_depth=24, total=   0.9s\n",
      "[CV] n_estimators=600, min_samples_split=100, min_samples_leaf=1, max_features=auto, max_depth=24 \n",
      "[CV]  n_estimators=600, min_samples_split=100, min_samples_leaf=1, max_features=auto, max_depth=24, total=   1.0s\n",
      "[CV] n_estimators=600, min_samples_split=100, min_samples_leaf=1, max_features=auto, max_depth=24 \n",
      "[CV]  n_estimators=600, min_samples_split=100, min_samples_leaf=1, max_features=auto, max_depth=24, total=   1.0s\n",
      "[CV] n_estimators=1200, min_samples_split=15, min_samples_leaf=3, max_features=sqrt, max_depth=6 \n",
      "[CV]  n_estimators=1200, min_samples_split=15, min_samples_leaf=3, max_features=sqrt, max_depth=6, total=   2.2s\n",
      "[CV] n_estimators=1200, min_samples_split=15, min_samples_leaf=3, max_features=sqrt, max_depth=6 \n",
      "[CV]  n_estimators=1200, min_samples_split=15, min_samples_leaf=3, max_features=sqrt, max_depth=6, total=   1.8s\n",
      "[CV] n_estimators=1200, min_samples_split=15, min_samples_leaf=3, max_features=sqrt, max_depth=6 \n",
      "[CV]  n_estimators=1200, min_samples_split=15, min_samples_leaf=3, max_features=sqrt, max_depth=6, total=   1.9s\n",
      "[CV] n_estimators=900, min_samples_split=100, min_samples_leaf=5, max_features=auto, max_depth=24 \n",
      "[CV]  n_estimators=900, min_samples_split=100, min_samples_leaf=5, max_features=auto, max_depth=24, total=   1.8s\n",
      "[CV] n_estimators=900, min_samples_split=100, min_samples_leaf=5, max_features=auto, max_depth=24 \n",
      "[CV]  n_estimators=900, min_samples_split=100, min_samples_leaf=5, max_features=auto, max_depth=24, total=   1.5s\n",
      "[CV] n_estimators=900, min_samples_split=100, min_samples_leaf=5, max_features=auto, max_depth=24 \n",
      "[CV]  n_estimators=900, min_samples_split=100, min_samples_leaf=5, max_features=auto, max_depth=24, total=   1.3s\n",
      "[CV] n_estimators=100, min_samples_split=5, min_samples_leaf=2, max_features=sqrt, max_depth=24 \n",
      "[CV]  n_estimators=100, min_samples_split=5, min_samples_leaf=2, max_features=sqrt, max_depth=24, total=   0.2s\n",
      "[CV] n_estimators=100, min_samples_split=5, min_samples_leaf=2, max_features=sqrt, max_depth=24 \n",
      "[CV]  n_estimators=100, min_samples_split=5, min_samples_leaf=2, max_features=sqrt, max_depth=24, total=   0.2s\n",
      "[CV] n_estimators=100, min_samples_split=5, min_samples_leaf=2, max_features=sqrt, max_depth=24 \n",
      "[CV]  n_estimators=100, min_samples_split=5, min_samples_leaf=2, max_features=sqrt, max_depth=24, total=   0.2s\n",
      "[CV] n_estimators=700, min_samples_split=100, min_samples_leaf=5, max_features=sqrt, max_depth=18 \n",
      "[CV]  n_estimators=700, min_samples_split=100, min_samples_leaf=5, max_features=sqrt, max_depth=18, total=   1.0s\n",
      "[CV] n_estimators=700, min_samples_split=100, min_samples_leaf=5, max_features=sqrt, max_depth=18 \n",
      "[CV]  n_estimators=700, min_samples_split=100, min_samples_leaf=5, max_features=sqrt, max_depth=18, total=   1.0s\n",
      "[CV] n_estimators=700, min_samples_split=100, min_samples_leaf=5, max_features=sqrt, max_depth=18 \n",
      "[CV]  n_estimators=700, min_samples_split=100, min_samples_leaf=5, max_features=sqrt, max_depth=18, total=   1.1s\n",
      "[CV] n_estimators=300, min_samples_split=2, min_samples_leaf=5, max_features=sqrt, max_depth=18 \n",
      "[CV]  n_estimators=300, min_samples_split=2, min_samples_leaf=5, max_features=sqrt, max_depth=18, total=   0.5s\n",
      "[CV] n_estimators=300, min_samples_split=2, min_samples_leaf=5, max_features=sqrt, max_depth=18 \n",
      "[CV]  n_estimators=300, min_samples_split=2, min_samples_leaf=5, max_features=sqrt, max_depth=18, total=   0.5s\n",
      "[CV] n_estimators=300, min_samples_split=2, min_samples_leaf=5, max_features=sqrt, max_depth=18 \n",
      "[CV]  n_estimators=300, min_samples_split=2, min_samples_leaf=5, max_features=sqrt, max_depth=18, total=   0.5s\n",
      "[CV] n_estimators=1100, min_samples_split=10, min_samples_leaf=5, max_features=auto, max_depth=12 \n",
      "[CV]  n_estimators=1100, min_samples_split=10, min_samples_leaf=5, max_features=auto, max_depth=12, total=   2.0s\n",
      "[CV] n_estimators=1100, min_samples_split=10, min_samples_leaf=5, max_features=auto, max_depth=12 \n",
      "[CV]  n_estimators=1100, min_samples_split=10, min_samples_leaf=5, max_features=auto, max_depth=12, total=   1.8s\n",
      "[CV] n_estimators=1100, min_samples_split=10, min_samples_leaf=5, max_features=auto, max_depth=12 \n",
      "[CV]  n_estimators=1100, min_samples_split=10, min_samples_leaf=5, max_features=auto, max_depth=12, total=   1.7s\n",
      "[CV] n_estimators=600, min_samples_split=2, min_samples_leaf=1, max_features=auto, max_depth=6 \n",
      "[CV]  n_estimators=600, min_samples_split=2, min_samples_leaf=1, max_features=auto, max_depth=6, total=   0.9s\n",
      "[CV] n_estimators=600, min_samples_split=2, min_samples_leaf=1, max_features=auto, max_depth=6 \n",
      "[CV]  n_estimators=600, min_samples_split=2, min_samples_leaf=1, max_features=auto, max_depth=6, total=   0.9s\n",
      "[CV] n_estimators=600, min_samples_split=2, min_samples_leaf=1, max_features=auto, max_depth=6 \n",
      "[CV]  n_estimators=600, min_samples_split=2, min_samples_leaf=1, max_features=auto, max_depth=6, total=   1.0s\n",
      "[CV] n_estimators=400, min_samples_split=100, min_samples_leaf=10, max_features=auto, max_depth=1 \n",
      "[CV]  n_estimators=400, min_samples_split=100, min_samples_leaf=10, max_features=auto, max_depth=1, total=   0.6s\n",
      "[CV] n_estimators=400, min_samples_split=100, min_samples_leaf=10, max_features=auto, max_depth=1 \n",
      "[CV]  n_estimators=400, min_samples_split=100, min_samples_leaf=10, max_features=auto, max_depth=1, total=   0.6s\n",
      "[CV] n_estimators=400, min_samples_split=100, min_samples_leaf=10, max_features=auto, max_depth=1 \n",
      "[CV]  n_estimators=400, min_samples_split=100, min_samples_leaf=10, max_features=auto, max_depth=1, total=   0.6s\n",
      "[CV] n_estimators=100, min_samples_split=10, min_samples_leaf=10, max_features=sqrt, max_depth=1 \n",
      "[CV]  n_estimators=100, min_samples_split=10, min_samples_leaf=10, max_features=sqrt, max_depth=1, total=   0.1s\n",
      "[CV] n_estimators=100, min_samples_split=10, min_samples_leaf=10, max_features=sqrt, max_depth=1 \n",
      "[CV]  n_estimators=100, min_samples_split=10, min_samples_leaf=10, max_features=sqrt, max_depth=1, total=   0.2s\n",
      "[CV] n_estimators=100, min_samples_split=10, min_samples_leaf=10, max_features=sqrt, max_depth=1 \n",
      "[CV]  n_estimators=100, min_samples_split=10, min_samples_leaf=10, max_features=sqrt, max_depth=1, total=   0.1s\n",
      "[CV] n_estimators=1200, min_samples_split=15, min_samples_leaf=3, max_features=auto, max_depth=24 \n",
      "[CV]  n_estimators=1200, min_samples_split=15, min_samples_leaf=3, max_features=auto, max_depth=24, total=   1.9s\n",
      "[CV] n_estimators=1200, min_samples_split=15, min_samples_leaf=3, max_features=auto, max_depth=24 \n",
      "[CV]  n_estimators=1200, min_samples_split=15, min_samples_leaf=3, max_features=auto, max_depth=24, total=   1.9s\n",
      "[CV] n_estimators=1200, min_samples_split=15, min_samples_leaf=3, max_features=auto, max_depth=24 \n",
      "[CV]  n_estimators=1200, min_samples_split=15, min_samples_leaf=3, max_features=auto, max_depth=24, total=   1.9s\n",
      "[CV] n_estimators=600, min_samples_split=15, min_samples_leaf=10, max_features=sqrt, max_depth=30 \n",
      "[CV]  n_estimators=600, min_samples_split=15, min_samples_leaf=10, max_features=sqrt, max_depth=30, total=   1.0s\n",
      "[CV] n_estimators=600, min_samples_split=15, min_samples_leaf=10, max_features=sqrt, max_depth=30 \n",
      "[CV]  n_estimators=600, min_samples_split=15, min_samples_leaf=10, max_features=sqrt, max_depth=30, total=   1.0s\n",
      "[CV] n_estimators=600, min_samples_split=15, min_samples_leaf=10, max_features=sqrt, max_depth=30 \n",
      "[CV]  n_estimators=600, min_samples_split=15, min_samples_leaf=10, max_features=sqrt, max_depth=30, total=   0.9s\n",
      "[CV] n_estimators=300, min_samples_split=10, min_samples_leaf=5, max_features=sqrt, max_depth=6 \n",
      "[CV]  n_estimators=300, min_samples_split=10, min_samples_leaf=5, max_features=sqrt, max_depth=6, total=   0.4s\n",
      "[CV] n_estimators=300, min_samples_split=10, min_samples_leaf=5, max_features=sqrt, max_depth=6 \n",
      "[CV]  n_estimators=300, min_samples_split=10, min_samples_leaf=5, max_features=sqrt, max_depth=6, total=   0.5s\n",
      "[CV] n_estimators=300, min_samples_split=10, min_samples_leaf=5, max_features=sqrt, max_depth=6 \n",
      "[CV]  n_estimators=300, min_samples_split=10, min_samples_leaf=5, max_features=sqrt, max_depth=6, total=   0.5s\n",
      "[CV] n_estimators=900, min_samples_split=15, min_samples_leaf=10, max_features=sqrt, max_depth=18 \n",
      "[CV]  n_estimators=900, min_samples_split=15, min_samples_leaf=10, max_features=sqrt, max_depth=18, total=   1.3s\n",
      "[CV] n_estimators=900, min_samples_split=15, min_samples_leaf=10, max_features=sqrt, max_depth=18 \n",
      "[CV]  n_estimators=900, min_samples_split=15, min_samples_leaf=10, max_features=sqrt, max_depth=18, total=   1.3s\n",
      "[CV] n_estimators=900, min_samples_split=15, min_samples_leaf=10, max_features=sqrt, max_depth=18 \n",
      "[CV]  n_estimators=900, min_samples_split=15, min_samples_leaf=10, max_features=sqrt, max_depth=18, total=   1.3s\n",
      "[CV] n_estimators=1200, min_samples_split=2, min_samples_leaf=10, max_features=sqrt, max_depth=1 \n",
      "[CV]  n_estimators=1200, min_samples_split=2, min_samples_leaf=10, max_features=sqrt, max_depth=1, total=   1.6s\n",
      "[CV] n_estimators=1200, min_samples_split=2, min_samples_leaf=10, max_features=sqrt, max_depth=1 \n",
      "[CV]  n_estimators=1200, min_samples_split=2, min_samples_leaf=10, max_features=sqrt, max_depth=1, total=   1.6s\n",
      "[CV] n_estimators=1200, min_samples_split=2, min_samples_leaf=10, max_features=sqrt, max_depth=1 \n",
      "[CV]  n_estimators=1200, min_samples_split=2, min_samples_leaf=10, max_features=sqrt, max_depth=1, total=   1.6s\n",
      "[CV] n_estimators=100, min_samples_split=15, min_samples_leaf=1, max_features=auto, max_depth=12 \n",
      "[CV]  n_estimators=100, min_samples_split=15, min_samples_leaf=1, max_features=auto, max_depth=12, total=   0.2s\n",
      "[CV] n_estimators=100, min_samples_split=15, min_samples_leaf=1, max_features=auto, max_depth=12 \n",
      "[CV]  n_estimators=100, min_samples_split=15, min_samples_leaf=1, max_features=auto, max_depth=12, total=   0.2s\n",
      "[CV] n_estimators=100, min_samples_split=15, min_samples_leaf=1, max_features=auto, max_depth=12 \n",
      "[CV]  n_estimators=100, min_samples_split=15, min_samples_leaf=1, max_features=auto, max_depth=12, total=   0.2s\n",
      "[CV] n_estimators=100, min_samples_split=5, min_samples_leaf=2, max_features=sqrt, max_depth=12 \n",
      "[CV]  n_estimators=100, min_samples_split=5, min_samples_leaf=2, max_features=sqrt, max_depth=12, total=   0.2s\n",
      "[CV] n_estimators=100, min_samples_split=5, min_samples_leaf=2, max_features=sqrt, max_depth=12 \n",
      "[CV]  n_estimators=100, min_samples_split=5, min_samples_leaf=2, max_features=sqrt, max_depth=12, total=   0.2s\n",
      "[CV] n_estimators=100, min_samples_split=5, min_samples_leaf=2, max_features=sqrt, max_depth=12 \n",
      "[CV]  n_estimators=100, min_samples_split=5, min_samples_leaf=2, max_features=sqrt, max_depth=12, total=   0.2s\n"
     ]
    },
    {
     "name": "stderr",
     "output_type": "stream",
     "text": [
      "[Parallel(n_jobs=1)]: Done 300 out of 300 | elapsed:  5.2min finished\n"
     ]
    },
    {
     "data": {
      "text/plain": [
       "RandomizedSearchCV(cv=3, error_score=nan,\n",
       "                   estimator=RandomForestClassifier(bootstrap=True,\n",
       "                                                    ccp_alpha=0.0,\n",
       "                                                    class_weight=None,\n",
       "                                                    criterion='gini',\n",
       "                                                    max_depth=None,\n",
       "                                                    max_features='auto',\n",
       "                                                    max_leaf_nodes=None,\n",
       "                                                    max_samples=None,\n",
       "                                                    min_impurity_decrease=0.0,\n",
       "                                                    min_impurity_split=None,\n",
       "                                                    min_samples_leaf=1,\n",
       "                                                    min_samples_split=2,\n",
       "                                                    min_weight_fraction_leaf=0.0,\n",
       "                                                    n_estimators=100,\n",
       "                                                    n_jobs...\n",
       "                   iid='deprecated', n_iter=100, n_jobs=1,\n",
       "                   param_distributions={'max_depth': [1, 6, 12, 18, 24, 30],\n",
       "                                        'max_features': ['auto', 'sqrt'],\n",
       "                                        'min_samples_leaf': [1, 2, 3, 5, 10],\n",
       "                                        'min_samples_split': [2, 5, 10, 15,\n",
       "                                                              100],\n",
       "                                        'n_estimators': [100, 200, 300, 400,\n",
       "                                                         500, 600, 700, 800,\n",
       "                                                         900, 1000, 1100,\n",
       "                                                         1200]},\n",
       "                   pre_dispatch='2*n_jobs', random_state=42, refit=True,\n",
       "                   return_train_score=False, scoring=None, verbose=2)"
      ]
     },
     "execution_count": 29,
     "metadata": {},
     "output_type": "execute_result"
    }
   ],
   "source": [
    "############### Start: Randomized Search CV ##################################\n",
    "\n",
    "# Look at parameters used by our current forest\n",
    "# from sklearn.ensemble import RandomForestRegressor\n",
    "\n",
    "rf = RandomForestClassifier()\n",
    "\n",
    "\n",
    "# Look at parameters used by our current forest\n",
    "print('Parameters currently in use:\\n')\n",
    "print(rf.get_params())\n",
    "\n",
    "from sklearn.model_selection import RandomizedSearchCV\n",
    "# Randomized Search CV\n",
    "\n",
    "# Number of trees in random forest\n",
    "n_estimators = [int(x) for x in np.linspace(start = 100, stop = 1200, num = 12)]\n",
    "# Number of features to consider at every split\n",
    "max_features = ['auto', 'sqrt']\n",
    "# Maximum number of levels in tree\n",
    "max_depth = [int(x) for x in np.linspace(1, 30, num = 6)]\n",
    "# max_depth.append(None)\n",
    "# Minimum number of samples required to split a node\n",
    "min_samples_split = [2, 5, 10, 15, 100]\n",
    "# Minimum number of samples required at each leaf node\n",
    "min_samples_leaf = [1, 2, 3, 5, 10]\n",
    "# Method of selecting samples for training each tree\n",
    "# bootstrap = [True, False]\n",
    "# Create the random grid\n",
    "random_grid = {'n_estimators': n_estimators,\n",
    "               'max_features': max_features,\n",
    "               'max_depth': max_depth,\n",
    "               'min_samples_split': min_samples_split,\n",
    "               'min_samples_leaf': min_samples_leaf,\n",
    "              }\n",
    "\n",
    "rf_random = RandomizedSearchCV(estimator = rf, param_distributions = random_grid, n_iter = 100, cv = 3, verbose=2, random_state=42, n_jobs = 1)\n",
    "\n",
    "#X_train, X_test, y_train, y_test = train_test_split(train_df[nz], train_df.target.values, test_size=0.2)\n",
    "\n",
    "\n",
    "rf_random.fit(X_train, y_train)\n",
    "\n",
    "# accuracy score가 아니라 mse 와 rmse 로 확인 0에 가까울 수록 좋다. \n",
    "#mse = mean_squared_error(y_test, y_preds)\n",
    "#rmse = np.sqrt(mse) #루트 씌워서... 따로 제공해 주는게 없어서..\n",
    "\n",
    "#print('MSE : {0:.3f} , RMSE : {1:.3F}'.format(mse , rmse))\n",
    "#print('Variance score = R제곱 -> 1에 가까울 수록 좋다 (0과 1사이)')\n",
    "#print('Variance score : {0:.3f}'.format(r2_score(y_test, y_preds)))"
   ]
  },
  {
   "cell_type": "code",
   "execution_count": 30,
   "metadata": {},
   "outputs": [
    {
     "data": {
      "text/plain": [
       "RandomForestClassifier(bootstrap=True, ccp_alpha=0.0, class_weight=None,\n",
       "                       criterion='gini', max_depth=6, max_features='auto',\n",
       "                       max_leaf_nodes=None, max_samples=None,\n",
       "                       min_impurity_decrease=0.0, min_impurity_split=None,\n",
       "                       min_samples_leaf=10, min_samples_split=2,\n",
       "                       min_weight_fraction_leaf=0.0, n_estimators=300,\n",
       "                       n_jobs=None, oob_score=False, random_state=None,\n",
       "                       verbose=0, warm_start=False)"
      ]
     },
     "execution_count": 30,
     "metadata": {},
     "output_type": "execute_result"
    }
   ],
   "source": [
    "rf_random.best_estimator_"
   ]
  },
  {
   "cell_type": "code",
   "execution_count": 33,
   "metadata": {},
   "outputs": [
    {
     "name": "stdout",
     "output_type": "stream",
     "text": [
      "예측 정확도: 0.8547\n"
     ]
    }
   ],
   "source": [
    "rf_1 = RandomForestClassifier(bootstrap=True, ccp_alpha=0.0, class_weight=None,\n",
    "                       criterion='gini', max_depth=6, max_features='auto',\n",
    "                       max_leaf_nodes=None, max_samples=None,\n",
    "                       min_impurity_decrease=0.0, min_impurity_split=None,\n",
    "                       min_samples_leaf=10, min_samples_split=2,\n",
    "                       min_weight_fraction_leaf=0.0, n_estimators=300,\n",
    "                       n_jobs= -1, oob_score=False, random_state=None,\n",
    "                       verbose=0, warm_start=False)\n",
    "rf_1.fit(X_train2 ,y_train2 )\n",
    "y_preds = rf_1.predict(X_test2)[:1]\n",
    "#print('예측 정확도: {0:.4f}'.format(accuracy_score(y_test2 , y_preds)))"
   ]
  },
  {
   "cell_type": "code",
   "execution_count": null,
   "metadata": {},
   "outputs": [],
   "source": []
  },
  {
   "cell_type": "code",
   "execution_count": 65,
   "metadata": {},
   "outputs": [
    {
     "name": "stdout",
     "output_type": "stream",
     "text": [
      "<class 'pandas.core.frame.DataFrame'>\n",
      "Int64Index: 712 entries, 57 to 265\n",
      "Data columns (total 7 columns):\n",
      " #   Column       Non-Null Count  Dtype  \n",
      "---  ------       --------------  -----  \n",
      " 0   PassengerId  712 non-null    int64  \n",
      " 1   Pclass       712 non-null    int64  \n",
      " 2   Sex          712 non-null    int32  \n",
      " 3   Age          712 non-null    float64\n",
      " 4   SibSp        712 non-null    int64  \n",
      " 5   Parch        712 non-null    int64  \n",
      " 6   Embarked     712 non-null    int32  \n",
      "dtypes: float64(1), int32(2), int64(4)\n",
      "memory usage: 38.9 KB\n"
     ]
    }
   ],
   "source": [
    "X_train2.info()"
   ]
  },
  {
   "cell_type": "code",
   "execution_count": 66,
   "metadata": {},
   "outputs": [
    {
     "name": "stdout",
     "output_type": "stream",
     "text": [
      "<class 'pandas.core.frame.DataFrame'>\n",
      "RangeIndex: 418 entries, 0 to 417\n",
      "Data columns (total 8 columns):\n",
      " #   Column       Non-Null Count  Dtype  \n",
      "---  ------       --------------  -----  \n",
      " 0   PassengerId  418 non-null    int64  \n",
      " 1   Pclass       418 non-null    int64  \n",
      " 2   Name         418 non-null    object \n",
      " 3   Sex          418 non-null    int32  \n",
      " 4   Age          418 non-null    float64\n",
      " 5   SibSp        418 non-null    int64  \n",
      " 6   Parch        418 non-null    int64  \n",
      " 7   Embarked     418 non-null    int32  \n",
      "dtypes: float64(1), int32(2), int64(4), object(1)\n",
      "memory usage: 23.0+ KB\n"
     ]
    }
   ],
   "source": [
    "test.info()"
   ]
  },
  {
   "cell_type": "code",
   "execution_count": 67,
   "metadata": {},
   "outputs": [],
   "source": [
    "X_train =  X_train2[['Sex','Pclass', 'SibSp', 'Parch', 'Age']]\n",
    "X_test = test[['Sex', 'Pclass', 'SibSp', 'Parch', 'Age']] "
   ]
  },
  {
   "cell_type": "code",
   "execution_count": 63,
   "metadata": {},
   "outputs": [
    {
     "data": {
      "text/plain": [
       "PassengerId      0\n",
       "Pclass           0\n",
       "Name             0\n",
       "Sex              0\n",
       "Age             86\n",
       "SibSp            0\n",
       "Parch            0\n",
       "Ticket           0\n",
       "Fare             1\n",
       "Cabin          327\n",
       "Embarked         0\n",
       "dtype: int64"
      ]
     },
     "execution_count": 63,
     "metadata": {},
     "output_type": "execute_result"
    }
   ],
   "source": [
    "test.isna().sum()"
   ]
  },
  {
   "cell_type": "code",
   "execution_count": 70,
   "metadata": {},
   "outputs": [],
   "source": [
    "#X_train2 =  X_train2[['Sex','Pclass', 'SibSp', 'Parch', 'Age']]\n",
    "#X_test = test[['Sex', 'Pclass', 'SibSp', 'Parch', 'Age']] \n",
    "\n",
    "rf_1 = RandomForestClassifier(bootstrap=True, ccp_alpha=0.0, class_weight=None,\n",
    "                       criterion='gini', max_depth=6, max_features='auto',\n",
    "                       max_leaf_nodes=None, max_samples=None,\n",
    "                       min_impurity_decrease=0.0, min_impurity_split=None,\n",
    "                       min_samples_leaf=10, min_samples_split=2,\n",
    "                       min_weight_fraction_leaf=0.0, n_estimators=300,\n",
    "                       n_jobs= -1, oob_score=False, random_state=None,\n",
    "                       verbose=0, warm_start=False)\n",
    "rf_1.fit(X_train ,y_train2 )\n",
    "#rf_pred2 = rf_1.predict(X_test)[:,1]\n",
    "rf2 = rf_1.predict_proba(X_test)[:,1]\n",
    "#print('예측 정확도: {0:.4f}'.format(accuracy_score(y_test2 , rf_pred2)))"
   ]
  },
  {
   "cell_type": "code",
   "execution_count": null,
   "metadata": {},
   "outputs": [],
   "source": []
  },
  {
   "cell_type": "code",
   "execution_count": 71,
   "metadata": {},
   "outputs": [],
   "source": [
    "test2 = pd.DataFrame(test['PassengerId'])"
   ]
  },
  {
   "cell_type": "code",
   "execution_count": 72,
   "metadata": {},
   "outputs": [
    {
     "data": {
      "text/html": [
       "<div>\n",
       "<style scoped>\n",
       "    .dataframe tbody tr th:only-of-type {\n",
       "        vertical-align: middle;\n",
       "    }\n",
       "\n",
       "    .dataframe tbody tr th {\n",
       "        vertical-align: top;\n",
       "    }\n",
       "\n",
       "    .dataframe thead th {\n",
       "        text-align: right;\n",
       "    }\n",
       "</style>\n",
       "<table border=\"1\" class=\"dataframe\">\n",
       "  <thead>\n",
       "    <tr style=\"text-align: right;\">\n",
       "      <th></th>\n",
       "      <th>PassengerId</th>\n",
       "    </tr>\n",
       "  </thead>\n",
       "  <tbody>\n",
       "    <tr>\n",
       "      <th>413</th>\n",
       "      <td>1305</td>\n",
       "    </tr>\n",
       "    <tr>\n",
       "      <th>414</th>\n",
       "      <td>1306</td>\n",
       "    </tr>\n",
       "    <tr>\n",
       "      <th>415</th>\n",
       "      <td>1307</td>\n",
       "    </tr>\n",
       "    <tr>\n",
       "      <th>416</th>\n",
       "      <td>1308</td>\n",
       "    </tr>\n",
       "    <tr>\n",
       "      <th>417</th>\n",
       "      <td>1309</td>\n",
       "    </tr>\n",
       "  </tbody>\n",
       "</table>\n",
       "</div>"
      ],
      "text/plain": [
       "     PassengerId\n",
       "413         1305\n",
       "414         1306\n",
       "415         1307\n",
       "416         1308\n",
       "417         1309"
      ]
     },
     "execution_count": 72,
     "metadata": {},
     "output_type": "execute_result"
    }
   ],
   "source": [
    "test2.tail()"
   ]
  },
  {
   "cell_type": "code",
   "execution_count": 73,
   "metadata": {},
   "outputs": [],
   "source": [
    "test2['Survived'] = 1"
   ]
  },
  {
   "cell_type": "code",
   "execution_count": 74,
   "metadata": {},
   "outputs": [],
   "source": [
    "test2['Survived'] = rf2"
   ]
  },
  {
   "cell_type": "code",
   "execution_count": 76,
   "metadata": {},
   "outputs": [
    {
     "data": {
      "text/plain": [
       "'\\n예측 정확도: 0.8715\\nRandomForestClassifier(n_estimators=250, max_depth=6, min_samples_leaf=7,                                  min_samples_split=2, random_state=0)\\n'"
      ]
     },
     "execution_count": 76,
     "metadata": {},
     "output_type": "execute_result"
    }
   ],
   "source": [
    "test2.to_csv('./titanic/rf_RandomSearchCV.csv', index=False)\n",
    "'''\n",
    "예측 정확도: 0.8715\n",
    "RandomForestClassifier(n_estimators=250, max_depth=6, min_samples_leaf=7, \\\n",
    "                                 min_samples_split=2, random_state=0)\n",
    "'''"
   ]
  },
  {
   "cell_type": "code",
   "execution_count": null,
   "metadata": {},
   "outputs": [],
   "source": []
  }
 ],
 "metadata": {
  "kernelspec": {
   "display_name": "Python 3",
   "language": "python",
   "name": "python3"
  },
  "language_info": {
   "codemirror_mode": {
    "name": "ipython",
    "version": 3
   },
   "file_extension": ".py",
   "mimetype": "text/x-python",
   "name": "python",
   "nbconvert_exporter": "python",
   "pygments_lexer": "ipython3",
   "version": "3.7.6"
  }
 },
 "nbformat": 4,
 "nbformat_minor": 4
}
